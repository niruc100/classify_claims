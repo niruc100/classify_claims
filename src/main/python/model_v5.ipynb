{
 "cells": [
  {
   "attachments": {},
   "cell_type": "markdown",
   "metadata": {},
   "source": [
    "# Costum & Scikit-Learn Classifier on Combined Claim Embeddings"
   ]
  },
  {
   "cell_type": "code",
   "execution_count": 1,
   "metadata": {},
   "outputs": [
    {
     "name": "stderr",
     "output_type": "stream",
     "text": [
      "[nltk_data] Downloading package punkt to\n",
      "[nltk_data]     C:\\Users\\nickr\\AppData\\Roaming\\nltk_data...\n",
      "[nltk_data]   Package punkt is already up-to-date!\n"
     ]
    }
   ],
   "source": [
    "from sklearn.metrics.pairwise import cosine_similarity\n",
    "import pandas as pd\n",
    "import numpy as np\n",
    "from tqdm import tqdm\n",
    "from sklearn.metrics import classification_report\n",
    "from nltk.tokenize import word_tokenize\n",
    "import nltk\n",
    "nltk.download(\"punkt\")\n",
    "import gensim\n",
    "import logging\n",
    "logging.basicConfig(format='%(asctime)s : %(levelname)s : %(message)s', level=logging.INFO)\n",
    "import joblib\n",
    "from sklearn.linear_model import PassiveAggressiveClassifier, SGDClassifier\n",
    "from sklearn.neighbors import KNeighborsClassifier\n",
    "from sklearn.ensemble import RandomForestClassifier\n",
    "from sklearn.neural_network import MLPClassifier\n",
    "from sklearn.feature_extraction.text import TfidfVectorizer\n",
    "from sklearn.metrics import classification_report\n",
    "from sklearn.decomposition import TruncatedSVD\n",
    "from sklearn.tree import DecisionTreeClassifier"
   ]
  },
  {
   "attachments": {},
   "cell_type": "markdown",
   "metadata": {},
   "source": [
    "## Load data"
   ]
  },
  {
   "cell_type": "code",
   "execution_count": 2,
   "metadata": {},
   "outputs": [
    {
     "data": {
      "text/plain": [
       "(40608, 5)"
      ]
     },
     "execution_count": 2,
     "metadata": {},
     "output_type": "execute_result"
    }
   ],
   "source": [
    "claims = pd.read_csv(\"../../../data/preprocessed_claims_new.csv\", index_col=0)\n",
    "claims.shape"
   ]
  },
  {
   "cell_type": "code",
   "execution_count": 3,
   "metadata": {},
   "outputs": [
    {
     "data": {
      "text/plain": [
       "False"
      ]
     },
     "execution_count": 3,
     "metadata": {},
     "output_type": "execute_result"
    }
   ],
   "source": [
    "train_idx = claims[\"date\"].apply(lambda x : x.split(\"-\")[0]) != \"2022\"\n",
    "val_idx = claims[\"date\"].apply(lambda x : x.split(\"-\")[0]) == \"2022\"\n",
    "# double check\n",
    "\"2022\" in claims[train_idx][\"date\"].apply(lambda x: x.split(\"-\")[0]).value_counts().index"
   ]
  },
  {
   "cell_type": "code",
   "execution_count": 4,
   "metadata": {},
   "outputs": [
    {
     "data": {
      "text/plain": [
       "((37983,), (37983,), (2625,), (2625,))"
      ]
     },
     "execution_count": 4,
     "metadata": {},
     "output_type": "execute_result"
    }
   ],
   "source": [
    "X = claims[train_idx][\"claim\"].values\n",
    "y = claims[train_idx][\"truth_rating\"].values\n",
    "# validation data\n",
    "X_val = claims[val_idx][\"claim\"].values\n",
    "y_val = claims[val_idx][\"truth_rating\"].values\n",
    "X.shape, y.shape, X_val.shape, y_val.shape"
   ]
  },
  {
   "attachments": {},
   "cell_type": "markdown",
   "metadata": {},
   "source": [
    "## N_words_clf + Sentiment & Emotion features"
   ]
  },
  {
   "cell_type": "code",
   "execution_count": 106,
   "metadata": {},
   "outputs": [],
   "source": [
    "class N_words_clf:\n",
    "    def __init__(self, top_N=100, stopwords=None):\n",
    "        self.N = top_N\n",
    "        self.stopwords = stopwords\n",
    "    \n",
    "    def clean_and_tokenize(self, claim):\n",
    "            \n",
    "        claim = word_tokenize(claim)\n",
    "        \n",
    "        if self.stopwords:\n",
    "            filtered_claim = []\n",
    "            for w in claim:\n",
    "                if w.lower() not in self.stopwords:\n",
    "                    filtered_claim.append(w.lower())\n",
    "            return filtered_claim\n",
    "        else:\n",
    "            return claim \n",
    "    \n",
    "    def fit(self, X_train, y_train):\n",
    "        labels = np.unique(y_train)\n",
    "        profiles = {}\n",
    "        for label in labels:\n",
    "            subsample = X_train[y_train == label]\n",
    "            profile = pd.Series(np.hstack([self.clean_and_tokenize(claim) for claim in subsample])).value_counts().index\n",
    "            # save to profiles\n",
    "            profiles[label] = profile\n",
    "            \n",
    "        self.profiles = profiles\n",
    "                \n",
    "        \n",
    "    def predict(self, X_test):\n",
    "        profiles = self.profiles\n",
    "        \n",
    "        predictions = []\n",
    "        for claim in tqdm(X_test):\n",
    "            claim_profile = word_tokenize(claim)\n",
    "            \n",
    "            best_score = -1\n",
    "            best_label = list(profiles.keys())[0]\n",
    "            \n",
    "            for label, profile in profiles.items():\n",
    "                score = np.array([w in profile[:self.N] for w in claim_profile]).sum()\n",
    "                if score > best_score:\n",
    "                    best_score = score\n",
    "                    best_label = label\n",
    "            \n",
    "            predictions.append(best_label)    \n",
    "        return np.array(predictions)"
   ]
  },
  {
   "cell_type": "code",
   "execution_count": 107,
   "metadata": {},
   "outputs": [
    {
     "data": {
      "text/plain": [
       "(40608, 15)"
      ]
     },
     "execution_count": 107,
     "metadata": {},
     "output_type": "execute_result"
    }
   ],
   "source": [
    "extracted_features = np.load(\"../../../data/extracted_features_preprocessed_claims_new.npy\")\n",
    "extracted_features.shape"
   ]
  },
  {
   "cell_type": "code",
   "execution_count": 108,
   "metadata": {},
   "outputs": [],
   "source": [
    "STOPWORDS = nltk.corpus.stopwords.words(\"english\")"
   ]
  },
  {
   "cell_type": "code",
   "execution_count": 109,
   "metadata": {},
   "outputs": [],
   "source": [
    "def add_features_to_claims(claims, features):\n",
    "    new_claims = []\n",
    "    for i, claim in enumerate(claims):\n",
    "        added_text = []\n",
    "        feature = features[i]\n",
    "        \n",
    "        if feature[0] > 0:\n",
    "            added_text.append(\"negative\")\n",
    "        if feature[1] > 0:\n",
    "            added_text.append(\"neutral\")\n",
    "        if feature[2] > 0:\n",
    "            added_text.append(\"positive\")\n",
    "        if feature[3] > 0.05:\n",
    "            added_text.append(\"positive_compound\")\n",
    "        if feature[3] < -0.05:\n",
    "            added_text.append(\"negative compound\")\n",
    "        if feature[4] > 0:\n",
    "            added_text.append(\"angry\")\n",
    "        if feature[5] > 0:\n",
    "            added_text.append(\"anxious\")\n",
    "        if feature[6] > 0:\n",
    "            added_text.append(\"happy\")\n",
    "        if feature[7] > 0:\n",
    "            added_text.append(\"sad\")\n",
    "        if feature[8] > 0:\n",
    "            added_text.append(\"surprised\")\n",
    "        if feature[9] < 2.5:\n",
    "            added_text.append(\"specific_emotion\")\n",
    "        if feature[9] >= 2.5 and feature[9] < 10.0:\n",
    "            added_text.append(\"emotional\")\n",
    "        if feature[9] > 10.0:\n",
    "            added_text.append(\"no_specific_emotion\")\n",
    "        \n",
    "        sentiment_features = \" \".join(added_text)\n",
    "        \n",
    "        new_claims.append(claim + \" \" + sentiment_features)\n",
    "    \n",
    "    return np.array(new_claims)"
   ]
  },
  {
   "cell_type": "code",
   "execution_count": 110,
   "metadata": {},
   "outputs": [],
   "source": [
    "X_text = add_features_to_claims(X, extracted_features[train_idx])\n",
    "X_text_val = add_features_to_claims(X_val, extracted_features[val_idx])"
   ]
  },
  {
   "cell_type": "code",
   "execution_count": 112,
   "metadata": {},
   "outputs": [],
   "source": [
    "clf_w_stopwords = N_words_clf(top_N=1000, stopwords=STOPWORDS)"
   ]
  },
  {
   "cell_type": "code",
   "execution_count": 113,
   "metadata": {},
   "outputs": [],
   "source": [
    "clf_w_stopwords.fit(X_text, y)"
   ]
  },
  {
   "cell_type": "code",
   "execution_count": 114,
   "metadata": {},
   "outputs": [
    {
     "name": "stderr",
     "output_type": "stream",
     "text": [
      "100%|██████████| 2625/2625 [00:14<00:00, 187.42it/s]\n"
     ]
    }
   ],
   "source": [
    "predictions = clf_w_stopwords.predict(X_text_val)"
   ]
  },
  {
   "cell_type": "code",
   "execution_count": 115,
   "metadata": {},
   "outputs": [
    {
     "name": "stdout",
     "output_type": "stream",
     "text": [
      "              precision    recall  f1-score   support\n",
      "\n",
      "       FALSE       0.85      0.87      0.86      2119\n",
      "       OTHER       0.34      0.27      0.30       396\n",
      "        TRUE       0.15      0.21      0.18       110\n",
      "\n",
      "    accuracy                           0.75      2625\n",
      "   macro avg       0.45      0.45      0.45      2625\n",
      "weighted avg       0.75      0.75      0.75      2625\n",
      "\n"
     ]
    }
   ],
   "source": [
    "print(classification_report(y_true=y_val, y_pred=predictions))"
   ]
  },
  {
   "attachments": {},
   "cell_type": "markdown",
   "metadata": {},
   "source": [
    "## Eval on test set"
   ]
  },
  {
   "cell_type": "code",
   "execution_count": 5,
   "metadata": {},
   "outputs": [
    {
     "data": {
      "text/plain": [
       "((1680, 3), (1680, 15))"
      ]
     },
     "execution_count": 5,
     "metadata": {},
     "output_type": "execute_result"
    }
   ],
   "source": [
    "test_set = pd.read_csv(\"test_set.csv\", index_col=0)\n",
    "extracted_features_test = np.load(\"../../../data/extracted_features_test.npy\")\n",
    "test_set.shape, extracted_features_test.shape"
   ]
  },
  {
   "cell_type": "code",
   "execution_count": 6,
   "metadata": {},
   "outputs": [],
   "source": [
    "X_test = test_set[\"claim\"].values\n",
    "y_test = test_set[\"label\"].values"
   ]
  },
  {
   "cell_type": "code",
   "execution_count": 51,
   "metadata": {},
   "outputs": [
    {
     "data": {
      "text/plain": [
       "array([\"A TikTok video shows a March 2022 school walkout in protest of Florida's 'Don't Say Gay' bill. negative neutral negative compound angry sad emotional\",\n",
       "       'Mattel sent Barbie dolls to the International Space Station (ISS) in 2022, as part of its efforts to encourage more young people to go into STEM-related fields. neutral positive positive_compound surprised specific_emotion',\n",
       "       \"'No one visiting Disney can get in” because of protest. negative neutral negative compound no_specific_emotion\",\n",
       "       'Two years ago we were “drilling our own oil for $27 a barrel.” Now, thanks to Joe Biden, we’re “paying $105 a barrel to Russia.” neutral positive positive_compound no_specific_emotion',\n",
       "       'Families could suffer a £2,000-a-year average hit from the cost of living crisis. negative neutral negative compound anxious happy surprised emotional'],\n",
       "      dtype='<U595')"
      ]
     },
     "execution_count": 51,
     "metadata": {},
     "output_type": "execute_result"
    }
   ],
   "source": [
    "X_test_ = add_features_to_claims(X_test, extracted_features_test)"
   ]
  },
  {
   "cell_type": "code",
   "execution_count": 64,
   "metadata": {},
   "outputs": [],
   "source": [
    "best_n_word_clf = N_words_clf(top_N=100, stopwords=STOPWORDS)\n",
    "best_n_word_clf.fit(X_, y)"
   ]
  },
  {
   "cell_type": "code",
   "execution_count": 65,
   "metadata": {},
   "outputs": [
    {
     "name": "stderr",
     "output_type": "stream",
     "text": [
      "100%|██████████| 1680/1680 [02:52<00:00,  9.74it/s]"
     ]
    },
    {
     "name": "stdout",
     "output_type": "stream",
     "text": [
      "              precision    recall  f1-score   support\n",
      "\n",
      "       FALSE       0.47      0.90      0.62       700\n",
      "     NEITHER       0.58      0.20      0.30       679\n",
      "        TRUE       0.38      0.14      0.21       301\n",
      "\n",
      "    accuracy                           0.48      1680\n",
      "   macro avg       0.48      0.41      0.38      1680\n",
      "weighted avg       0.50      0.48      0.42      1680\n",
      "\n"
     ]
    },
    {
     "name": "stderr",
     "output_type": "stream",
     "text": [
      "\n"
     ]
    },
    {
     "data": {
      "text/plain": [
       "FALSE      1334\n",
       "NEITHER     234\n",
       "TRUE        112\n",
       "dtype: int64"
      ]
     },
     "execution_count": 65,
     "metadata": {},
     "output_type": "execute_result"
    }
   ],
   "source": [
    "clf = best_n_word_clf\n",
    "test_predictions = clf.predict(X_test_)\n",
    "final_predictions = np.array([\"NEITHER\" if l == \"OTHER\" else l for l in test_predictions])\n",
    "print(classification_report(y_true= y_test, y_pred=final_predictions))\n",
    "pd.Series(final_predictions).value_counts()"
   ]
  },
  {
   "attachments": {},
   "cell_type": "markdown",
   "metadata": {},
   "source": [
    "## Stack TFIDF + Doc2vec + glove + extracted features\n",
    "\n",
    "If the loaded models are not present, please create them using `model_v2.ipynb`"
   ]
  },
  {
   "cell_type": "code",
   "execution_count": 7,
   "metadata": {},
   "outputs": [
    {
     "name": "stderr",
     "output_type": "stream",
     "text": [
      "2023-01-14 13:43:26,520 : INFO : loading Doc2Vec object from doc2vec_model_100d_min3_100e.gensim\n",
      "2023-01-14 13:43:26,574 : INFO : loading dv recursively from doc2vec_model_100d_min3_100e.gensim.dv.* with mmap=None\n",
      "2023-01-14 13:43:26,576 : INFO : loading wv recursively from doc2vec_model_100d_min3_100e.gensim.wv.* with mmap=None\n",
      "2023-01-14 13:43:26,578 : INFO : setting ignored attribute cum_table to None\n",
      "2023-01-14 13:43:26,917 : INFO : Doc2Vec lifecycle event {'fname': 'doc2vec_model_100d_min3_100e.gensim', 'datetime': '2023-01-14T13:43:26.917001', 'gensim': '4.3.0', 'python': '3.10.4 | packaged by conda-forge | (main, Mar 30 2022, 08:38:02) [MSC v.1916 64 bit (AMD64)]', 'platform': 'Windows-10-10.0.22621-SP0', 'event': 'loaded'}\n"
     ]
    }
   ],
   "source": [
    "# load\n",
    "doc2vec = gensim.models.doc2vec.Doc2Vec.load(\"doc2vec_model_100d_min3_100e.gensim\")"
   ]
  },
  {
   "cell_type": "code",
   "execution_count": 8,
   "metadata": {},
   "outputs": [
    {
     "name": "stderr",
     "output_type": "stream",
     "text": [
      "2023-01-14 13:43:27,253 : INFO : loading KeyedVectors object from glove-twitter-100.gensim\n",
      "2023-01-14 13:43:28,616 : INFO : loading vectors from glove-twitter-100.gensim.vectors.npy with mmap=None\n",
      "2023-01-14 13:43:29,536 : INFO : KeyedVectors lifecycle event {'fname': 'glove-twitter-100.gensim', 'datetime': '2023-01-14T13:43:29.536192', 'gensim': '4.3.0', 'python': '3.10.4 | packaged by conda-forge | (main, Mar 30 2022, 08:38:02) [MSC v.1916 64 bit (AMD64)]', 'platform': 'Windows-10-10.0.22621-SP0', 'event': 'loaded'}\n"
     ]
    }
   ],
   "source": [
    "glove = gensim.models.keyedvectors.KeyedVectors.load(\"glove-twitter-100.gensim\")"
   ]
  },
  {
   "cell_type": "code",
   "execution_count": 9,
   "metadata": {},
   "outputs": [],
   "source": [
    "extracted_features = np.load(\"../../../data/extracted_features_preprocessed_claims_new.npy\")"
   ]
  },
  {
   "attachments": {},
   "cell_type": "markdown",
   "metadata": {},
   "source": [
    "#### TFIDF Features"
   ]
  },
  {
   "cell_type": "code",
   "execution_count": 10,
   "metadata": {},
   "outputs": [
    {
     "data": {
      "text/html": [
       "<style>#sk-container-id-1 {color: black;background-color: white;}#sk-container-id-1 pre{padding: 0;}#sk-container-id-1 div.sk-toggleable {background-color: white;}#sk-container-id-1 label.sk-toggleable__label {cursor: pointer;display: block;width: 100%;margin-bottom: 0;padding: 0.3em;box-sizing: border-box;text-align: center;}#sk-container-id-1 label.sk-toggleable__label-arrow:before {content: \"▸\";float: left;margin-right: 0.25em;color: #696969;}#sk-container-id-1 label.sk-toggleable__label-arrow:hover:before {color: black;}#sk-container-id-1 div.sk-estimator:hover label.sk-toggleable__label-arrow:before {color: black;}#sk-container-id-1 div.sk-toggleable__content {max-height: 0;max-width: 0;overflow: hidden;text-align: left;background-color: #f0f8ff;}#sk-container-id-1 div.sk-toggleable__content pre {margin: 0.2em;color: black;border-radius: 0.25em;background-color: #f0f8ff;}#sk-container-id-1 input.sk-toggleable__control:checked~div.sk-toggleable__content {max-height: 200px;max-width: 100%;overflow: auto;}#sk-container-id-1 input.sk-toggleable__control:checked~label.sk-toggleable__label-arrow:before {content: \"▾\";}#sk-container-id-1 div.sk-estimator input.sk-toggleable__control:checked~label.sk-toggleable__label {background-color: #d4ebff;}#sk-container-id-1 div.sk-label input.sk-toggleable__control:checked~label.sk-toggleable__label {background-color: #d4ebff;}#sk-container-id-1 input.sk-hidden--visually {border: 0;clip: rect(1px 1px 1px 1px);clip: rect(1px, 1px, 1px, 1px);height: 1px;margin: -1px;overflow: hidden;padding: 0;position: absolute;width: 1px;}#sk-container-id-1 div.sk-estimator {font-family: monospace;background-color: #f0f8ff;border: 1px dotted black;border-radius: 0.25em;box-sizing: border-box;margin-bottom: 0.5em;}#sk-container-id-1 div.sk-estimator:hover {background-color: #d4ebff;}#sk-container-id-1 div.sk-parallel-item::after {content: \"\";width: 100%;border-bottom: 1px solid gray;flex-grow: 1;}#sk-container-id-1 div.sk-label:hover label.sk-toggleable__label {background-color: #d4ebff;}#sk-container-id-1 div.sk-serial::before {content: \"\";position: absolute;border-left: 1px solid gray;box-sizing: border-box;top: 0;bottom: 0;left: 50%;z-index: 0;}#sk-container-id-1 div.sk-serial {display: flex;flex-direction: column;align-items: center;background-color: white;padding-right: 0.2em;padding-left: 0.2em;position: relative;}#sk-container-id-1 div.sk-item {position: relative;z-index: 1;}#sk-container-id-1 div.sk-parallel {display: flex;align-items: stretch;justify-content: center;background-color: white;position: relative;}#sk-container-id-1 div.sk-item::before, #sk-container-id-1 div.sk-parallel-item::before {content: \"\";position: absolute;border-left: 1px solid gray;box-sizing: border-box;top: 0;bottom: 0;left: 50%;z-index: -1;}#sk-container-id-1 div.sk-parallel-item {display: flex;flex-direction: column;z-index: 1;position: relative;background-color: white;}#sk-container-id-1 div.sk-parallel-item:first-child::after {align-self: flex-end;width: 50%;}#sk-container-id-1 div.sk-parallel-item:last-child::after {align-self: flex-start;width: 50%;}#sk-container-id-1 div.sk-parallel-item:only-child::after {width: 0;}#sk-container-id-1 div.sk-dashed-wrapped {border: 1px dashed gray;margin: 0 0.4em 0.5em 0.4em;box-sizing: border-box;padding-bottom: 0.4em;background-color: white;}#sk-container-id-1 div.sk-label label {font-family: monospace;font-weight: bold;display: inline-block;line-height: 1.2em;}#sk-container-id-1 div.sk-label-container {text-align: center;}#sk-container-id-1 div.sk-container {/* jupyter's `normalize.less` sets `[hidden] { display: none; }` but bootstrap.min.css set `[hidden] { display: none !important; }` so we also need the `!important` here to be able to override the default hidden behavior on the sphinx rendered scikit-learn.org. See: https://github.com/scikit-learn/scikit-learn/issues/21755 */display: inline-block !important;position: relative;}#sk-container-id-1 div.sk-text-repr-fallback {display: none;}</style><div id=\"sk-container-id-1\" class=\"sk-top-container\"><div class=\"sk-text-repr-fallback\"><pre>TfidfVectorizer()</pre><b>In a Jupyter environment, please rerun this cell to show the HTML representation or trust the notebook. <br />On GitHub, the HTML representation is unable to render, please try loading this page with nbviewer.org.</b></div><div class=\"sk-container\" hidden><div class=\"sk-item\"><div class=\"sk-estimator sk-toggleable\"><input class=\"sk-toggleable__control sk-hidden--visually\" id=\"sk-estimator-id-1\" type=\"checkbox\" checked><label for=\"sk-estimator-id-1\" class=\"sk-toggleable__label sk-toggleable__label-arrow\">TfidfVectorizer</label><div class=\"sk-toggleable__content\"><pre>TfidfVectorizer()</pre></div></div></div></div></div>"
      ],
      "text/plain": [
       "TfidfVectorizer()"
      ]
     },
     "execution_count": 10,
     "metadata": {},
     "output_type": "execute_result"
    }
   ],
   "source": [
    "vec = TfidfVectorizer()\n",
    "vec.fit(X)"
   ]
  },
  {
   "cell_type": "code",
   "execution_count": 11,
   "metadata": {},
   "outputs": [
    {
     "data": {
      "text/plain": [
       "(37983, 28668)"
      ]
     },
     "execution_count": 11,
     "metadata": {},
     "output_type": "execute_result"
    }
   ],
   "source": [
    "X_tfidf = vec.transform(X)\n",
    "X_tfidf.shape"
   ]
  },
  {
   "cell_type": "code",
   "execution_count": 12,
   "metadata": {},
   "outputs": [
    {
     "data": {
      "text/plain": [
       "(2625, 28668)"
      ]
     },
     "execution_count": 12,
     "metadata": {},
     "output_type": "execute_result"
    }
   ],
   "source": [
    "X_tfidf_val = vec.transform(X_val)\n",
    "X_tfidf_val.shape"
   ]
  },
  {
   "attachments": {},
   "cell_type": "markdown",
   "metadata": {},
   "source": [
    "#### Doc2vec Features"
   ]
  },
  {
   "cell_type": "code",
   "execution_count": 13,
   "metadata": {},
   "outputs": [],
   "source": [
    "def vectorize_claim(claim, model):\n",
    "    tokenized_claim = gensim.utils.simple_preprocess(claim)\n",
    "    wv = model.infer_vector(tokenized_claim)\n",
    "    return wv"
   ]
  },
  {
   "cell_type": "code",
   "execution_count": 108,
   "metadata": {},
   "outputs": [],
   "source": [
    "X_doc2vec = pd.Series(X).apply(lambda x: vectorize_claim(x, doc2vec))"
   ]
  },
  {
   "cell_type": "code",
   "execution_count": 120,
   "metadata": {},
   "outputs": [
    {
     "ename": "AttributeError",
     "evalue": "'numpy.ndarray' object has no attribute 'values'",
     "output_type": "error",
     "traceback": [
      "\u001b[1;31m---------------------------------------------------------------------------\u001b[0m",
      "\u001b[1;31mAttributeError\u001b[0m                            Traceback (most recent call last)",
      "\u001b[1;32mc:\\Users\\nickr\\Desktop\\DKE\\home project\\home_project_students\\src\\main\\python\\model_v5.ipynb Cell 34\u001b[0m in \u001b[0;36m<cell line: 1>\u001b[1;34m()\u001b[0m\n\u001b[1;32m----> <a href='vscode-notebook-cell:/c%3A/Users/nickr/Desktop/DKE/home%20project/home_project_students/src/main/python/model_v5.ipynb#Y110sZmlsZQ%3D%3D?line=0'>1</a>\u001b[0m X_doc2vec \u001b[39m=\u001b[39m np\u001b[39m.\u001b[39mvstack(X_doc2vec\u001b[39m.\u001b[39;49mvalues)\n\u001b[0;32m      <a href='vscode-notebook-cell:/c%3A/Users/nickr/Desktop/DKE/home%20project/home_project_students/src/main/python/model_v5.ipynb#Y110sZmlsZQ%3D%3D?line=1'>2</a>\u001b[0m X_doc2vec\u001b[39m.\u001b[39mshape\n",
      "\u001b[1;31mAttributeError\u001b[0m: 'numpy.ndarray' object has no attribute 'values'"
     ]
    }
   ],
   "source": [
    "X_doc2vec = np.vstack(X_doc2vec.values)\n",
    "X_doc2vec.shape"
   ]
  },
  {
   "cell_type": "code",
   "execution_count": 127,
   "metadata": {},
   "outputs": [],
   "source": [
    "X_doc2vec_val = pd.Series(X_val).apply(lambda x: vectorize_claim(x, doc2vec))"
   ]
  },
  {
   "cell_type": "code",
   "execution_count": 131,
   "metadata": {},
   "outputs": [
    {
     "data": {
      "text/plain": [
       "(2625, 100)"
      ]
     },
     "execution_count": 131,
     "metadata": {},
     "output_type": "execute_result"
    }
   ],
   "source": [
    "X_doc2vec_val = np.vstack(X_doc2vec_val.values)\n",
    "X_doc2vec_val.shape"
   ]
  },
  {
   "attachments": {},
   "cell_type": "markdown",
   "metadata": {},
   "source": [
    "#### Glove Features"
   ]
  },
  {
   "cell_type": "code",
   "execution_count": 14,
   "metadata": {},
   "outputs": [],
   "source": [
    "def get_wv(w, model):\n",
    "    try:\n",
    "        return model.get_vector(w)\n",
    "    except:\n",
    "        return np.zeros((100,))"
   ]
  },
  {
   "cell_type": "code",
   "execution_count": 15,
   "metadata": {},
   "outputs": [],
   "source": [
    "def retrieve_wv_average(claim, model):\n",
    "    tokenized_claim = gensim.utils.simple_preprocess(claim)\n",
    "    wv = np.array([get_wv(token, model) for token in tokenized_claim]).mean(axis=0)\n",
    "    # this line for fasttext\n",
    "    #wv = np.array([model.wv[token] for token in tokenized_claim]).mean(axis=0)\n",
    "    return wv"
   ]
  },
  {
   "cell_type": "code",
   "execution_count": 16,
   "metadata": {},
   "outputs": [
    {
     "data": {
      "text/plain": [
       "((37983, 100), (2625, 100))"
      ]
     },
     "execution_count": 16,
     "metadata": {},
     "output_type": "execute_result"
    }
   ],
   "source": [
    "X_glove = np.vstack([retrieve_wv_average(claim, glove) for claim in X])\n",
    "X_glove_val = np.vstack([retrieve_wv_average(claim, glove) for claim in X_val])\n",
    "X_glove.shape, X_glove_val.shape"
   ]
  },
  {
   "attachments": {},
   "cell_type": "markdown",
   "metadata": {},
   "source": [
    "#### Combine to final features"
   ]
  },
  {
   "cell_type": "code",
   "execution_count": 17,
   "metadata": {},
   "outputs": [
    {
     "data": {
      "text/plain": [
       "((37983, 100), (2625, 100))"
      ]
     },
     "execution_count": 17,
     "metadata": {},
     "output_type": "execute_result"
    }
   ],
   "source": [
    "# for convinience\n",
    "#X_doc2vec = np.load(\"doc2vec_features_train.npy\")\n",
    "#X_doc2vec_val = np.load(\"doc2vec_features_val.npy\")\n",
    "#X_doc2vec.shape, X_doc2vec_val.shape"
   ]
  },
  {
   "attachments": {},
   "cell_type": "markdown",
   "metadata": {},
   "source": [
    "#### Optional Dimensionality Reduction"
   ]
  },
  {
   "cell_type": "code",
   "execution_count": 18,
   "metadata": {},
   "outputs": [],
   "source": [
    "svd = TruncatedSVD(n_components=100, random_state=417)"
   ]
  },
  {
   "cell_type": "code",
   "execution_count": 19,
   "metadata": {},
   "outputs": [
    {
     "data": {
      "text/html": [
       "<style>#sk-container-id-2 {color: black;background-color: white;}#sk-container-id-2 pre{padding: 0;}#sk-container-id-2 div.sk-toggleable {background-color: white;}#sk-container-id-2 label.sk-toggleable__label {cursor: pointer;display: block;width: 100%;margin-bottom: 0;padding: 0.3em;box-sizing: border-box;text-align: center;}#sk-container-id-2 label.sk-toggleable__label-arrow:before {content: \"▸\";float: left;margin-right: 0.25em;color: #696969;}#sk-container-id-2 label.sk-toggleable__label-arrow:hover:before {color: black;}#sk-container-id-2 div.sk-estimator:hover label.sk-toggleable__label-arrow:before {color: black;}#sk-container-id-2 div.sk-toggleable__content {max-height: 0;max-width: 0;overflow: hidden;text-align: left;background-color: #f0f8ff;}#sk-container-id-2 div.sk-toggleable__content pre {margin: 0.2em;color: black;border-radius: 0.25em;background-color: #f0f8ff;}#sk-container-id-2 input.sk-toggleable__control:checked~div.sk-toggleable__content {max-height: 200px;max-width: 100%;overflow: auto;}#sk-container-id-2 input.sk-toggleable__control:checked~label.sk-toggleable__label-arrow:before {content: \"▾\";}#sk-container-id-2 div.sk-estimator input.sk-toggleable__control:checked~label.sk-toggleable__label {background-color: #d4ebff;}#sk-container-id-2 div.sk-label input.sk-toggleable__control:checked~label.sk-toggleable__label {background-color: #d4ebff;}#sk-container-id-2 input.sk-hidden--visually {border: 0;clip: rect(1px 1px 1px 1px);clip: rect(1px, 1px, 1px, 1px);height: 1px;margin: -1px;overflow: hidden;padding: 0;position: absolute;width: 1px;}#sk-container-id-2 div.sk-estimator {font-family: monospace;background-color: #f0f8ff;border: 1px dotted black;border-radius: 0.25em;box-sizing: border-box;margin-bottom: 0.5em;}#sk-container-id-2 div.sk-estimator:hover {background-color: #d4ebff;}#sk-container-id-2 div.sk-parallel-item::after {content: \"\";width: 100%;border-bottom: 1px solid gray;flex-grow: 1;}#sk-container-id-2 div.sk-label:hover label.sk-toggleable__label {background-color: #d4ebff;}#sk-container-id-2 div.sk-serial::before {content: \"\";position: absolute;border-left: 1px solid gray;box-sizing: border-box;top: 0;bottom: 0;left: 50%;z-index: 0;}#sk-container-id-2 div.sk-serial {display: flex;flex-direction: column;align-items: center;background-color: white;padding-right: 0.2em;padding-left: 0.2em;position: relative;}#sk-container-id-2 div.sk-item {position: relative;z-index: 1;}#sk-container-id-2 div.sk-parallel {display: flex;align-items: stretch;justify-content: center;background-color: white;position: relative;}#sk-container-id-2 div.sk-item::before, #sk-container-id-2 div.sk-parallel-item::before {content: \"\";position: absolute;border-left: 1px solid gray;box-sizing: border-box;top: 0;bottom: 0;left: 50%;z-index: -1;}#sk-container-id-2 div.sk-parallel-item {display: flex;flex-direction: column;z-index: 1;position: relative;background-color: white;}#sk-container-id-2 div.sk-parallel-item:first-child::after {align-self: flex-end;width: 50%;}#sk-container-id-2 div.sk-parallel-item:last-child::after {align-self: flex-start;width: 50%;}#sk-container-id-2 div.sk-parallel-item:only-child::after {width: 0;}#sk-container-id-2 div.sk-dashed-wrapped {border: 1px dashed gray;margin: 0 0.4em 0.5em 0.4em;box-sizing: border-box;padding-bottom: 0.4em;background-color: white;}#sk-container-id-2 div.sk-label label {font-family: monospace;font-weight: bold;display: inline-block;line-height: 1.2em;}#sk-container-id-2 div.sk-label-container {text-align: center;}#sk-container-id-2 div.sk-container {/* jupyter's `normalize.less` sets `[hidden] { display: none; }` but bootstrap.min.css set `[hidden] { display: none !important; }` so we also need the `!important` here to be able to override the default hidden behavior on the sphinx rendered scikit-learn.org. See: https://github.com/scikit-learn/scikit-learn/issues/21755 */display: inline-block !important;position: relative;}#sk-container-id-2 div.sk-text-repr-fallback {display: none;}</style><div id=\"sk-container-id-2\" class=\"sk-top-container\"><div class=\"sk-text-repr-fallback\"><pre>TruncatedSVD(n_components=100, random_state=417)</pre><b>In a Jupyter environment, please rerun this cell to show the HTML representation or trust the notebook. <br />On GitHub, the HTML representation is unable to render, please try loading this page with nbviewer.org.</b></div><div class=\"sk-container\" hidden><div class=\"sk-item\"><div class=\"sk-estimator sk-toggleable\"><input class=\"sk-toggleable__control sk-hidden--visually\" id=\"sk-estimator-id-2\" type=\"checkbox\" checked><label for=\"sk-estimator-id-2\" class=\"sk-toggleable__label sk-toggleable__label-arrow\">TruncatedSVD</label><div class=\"sk-toggleable__content\"><pre>TruncatedSVD(n_components=100, random_state=417)</pre></div></div></div></div></div>"
      ],
      "text/plain": [
       "TruncatedSVD(n_components=100, random_state=417)"
      ]
     },
     "execution_count": 19,
     "metadata": {},
     "output_type": "execute_result"
    }
   ],
   "source": [
    "svd.fit(X_tfidf)"
   ]
  },
  {
   "cell_type": "code",
   "execution_count": 20,
   "metadata": {},
   "outputs": [],
   "source": [
    "X_tfidf = svd.transform(X_tfidf)\n",
    "X_tfidf_val = svd.transform(X_tfidf_val)"
   ]
  },
  {
   "cell_type": "code",
   "execution_count": 21,
   "metadata": {},
   "outputs": [
    {
     "data": {
      "text/plain": [
       "((37983, 315), (2625, 315))"
      ]
     },
     "execution_count": 21,
     "metadata": {},
     "output_type": "execute_result"
    }
   ],
   "source": [
    "# stack all features to final features\n",
    "X_ = np.hstack((X_tfidf, X_doc2vec, X_glove, extracted_features[train_idx]))\n",
    "X_val_ = np.hstack((X_tfidf_val, X_doc2vec_val, X_glove_val, extracted_features[val_idx]))\n",
    "X_.shape, X_val_.shape"
   ]
  },
  {
   "cell_type": "code",
   "execution_count": 21,
   "metadata": {},
   "outputs": [
    {
     "ename": "AttributeError",
     "evalue": "'numpy.ndarray' object has no attribute 'toarray'",
     "output_type": "error",
     "traceback": [
      "\u001b[1;31m---------------------------------------------------------------------------\u001b[0m",
      "\u001b[1;31mAttributeError\u001b[0m                            Traceback (most recent call last)",
      "\u001b[1;32mc:\\Users\\nickr\\Desktop\\DKE\\home project\\home_project_students\\src\\main\\python\\model_v5.ipynb Cell 46\u001b[0m in \u001b[0;36m<cell line: 2>\u001b[1;34m()\u001b[0m\n\u001b[0;32m      <a href='vscode-notebook-cell:/c%3A/Users/nickr/Desktop/DKE/home%20project/home_project_students/src/main/python/model_v5.ipynb#X56sZmlsZQ%3D%3D?line=0'>1</a>\u001b[0m \u001b[39m# stack all features to final features\u001b[39;00m\n\u001b[1;32m----> <a href='vscode-notebook-cell:/c%3A/Users/nickr/Desktop/DKE/home%20project/home_project_students/src/main/python/model_v5.ipynb#X56sZmlsZQ%3D%3D?line=1'>2</a>\u001b[0m X_ \u001b[39m=\u001b[39m np\u001b[39m.\u001b[39mhstack((X_tfidf\u001b[39m.\u001b[39;49mtoarray(), X_doc2vec, X_glove, extracted_features[train_idx]))\n\u001b[0;32m      <a href='vscode-notebook-cell:/c%3A/Users/nickr/Desktop/DKE/home%20project/home_project_students/src/main/python/model_v5.ipynb#X56sZmlsZQ%3D%3D?line=2'>3</a>\u001b[0m X_val_ \u001b[39m=\u001b[39m np\u001b[39m.\u001b[39mhstack((X_tfidf_val\u001b[39m.\u001b[39mtoarray(), X_doc2vec_val, X_glove_val, extracted_features[val_idx]))\n\u001b[0;32m      <a href='vscode-notebook-cell:/c%3A/Users/nickr/Desktop/DKE/home%20project/home_project_students/src/main/python/model_v5.ipynb#X56sZmlsZQ%3D%3D?line=3'>4</a>\u001b[0m X_\u001b[39m.\u001b[39mshape, X_val_\u001b[39m.\u001b[39mshape\n",
      "\u001b[1;31mAttributeError\u001b[0m: 'numpy.ndarray' object has no attribute 'toarray'"
     ]
    }
   ],
   "source": [
    "# stack all features to final features\n",
    "X_ = np.hstack((X_tfidf.toarray(), X_doc2vec, X_glove, extracted_features[train_idx]))\n",
    "X_val_ = np.hstack((X_tfidf_val.toarray(), X_doc2vec_val, X_glove_val, extracted_features[val_idx]))\n",
    "X_.shape, X_val_.shape"
   ]
  },
  {
   "attachments": {},
   "cell_type": "markdown",
   "metadata": {},
   "source": [
    "### Train models on final features"
   ]
  },
  {
   "cell_type": "code",
   "execution_count": 22,
   "metadata": {},
   "outputs": [],
   "source": [
    "def train_eval(clf, X_train, y_train, X_val, y_val):\n",
    "    clf.fit(X_train, y_train)\n",
    "    preds = clf.predict(X_val)\n",
    "    print(classification_report(y_true=y_val,y_pred=preds))"
   ]
  },
  {
   "cell_type": "code",
   "execution_count": 20,
   "metadata": {},
   "outputs": [],
   "source": [
    "from scipy import sparse\n",
    "X_sparse = sparse.csr_matrix(X_)\n",
    "X_sparse_val = sparse.csr_matrix(X_val_)"
   ]
  },
  {
   "cell_type": "code",
   "execution_count": 21,
   "metadata": {},
   "outputs": [
    {
     "data": {
      "text/plain": [
       "((37983, 28883), (2625, 28883))"
      ]
     },
     "execution_count": 21,
     "metadata": {},
     "output_type": "execute_result"
    }
   ],
   "source": [
    "X_sparse.shape, X_sparse_val.shape"
   ]
  },
  {
   "cell_type": "code",
   "execution_count": 23,
   "metadata": {},
   "outputs": [],
   "source": [
    "paclf = PassiveAggressiveClassifier(random_state=417, n_jobs=-1, C=0.01) \n",
    "knn = KNeighborsClassifier(n_jobs=-1, n_neighbors=10) \n",
    "rfc = RandomForestClassifier(random_state=417, n_jobs=-1, criterion=\"entropy\") \n",
    "sgd = SGDClassifier(random_state=417, n_jobs=-1, loss=\"hinge\")\n",
    "mlp = MLPClassifier(random_state=417)\n",
    "dtc = DecisionTreeClassifier(random_state=417)"
   ]
  },
  {
   "cell_type": "code",
   "execution_count": 44,
   "metadata": {},
   "outputs": [
    {
     "name": "stdout",
     "output_type": "stream",
     "text": [
      "              precision    recall  f1-score   support\n",
      "\n",
      "       FALSE       0.86      0.86      0.86      2119\n",
      "       OTHER       0.35      0.33      0.34       396\n",
      "        TRUE       0.24      0.28      0.26       110\n",
      "\n",
      "    accuracy                           0.75      2625\n",
      "   macro avg       0.48      0.49      0.48      2625\n",
      "weighted avg       0.75      0.75      0.75      2625\n",
      "\n"
     ]
    }
   ],
   "source": [
    "train_eval(mlp, X_, y, X_val_, y_val)"
   ]
  },
  {
   "cell_type": "code",
   "execution_count": 24,
   "metadata": {},
   "outputs": [],
   "source": [
    "from sklearn.ensemble import VotingClassifier"
   ]
  },
  {
   "cell_type": "code",
   "execution_count": 40,
   "metadata": {},
   "outputs": [],
   "source": [
    "vtn = VotingClassifier(estimators= [(\"1\", knn), (\"3\", mlp), (\"4\", rfc)], voting=\"soft\", n_jobs=-1)\n",
    "vtn.fit(X_, y)\n",
    "pred = vtn.predict(X_val_)"
   ]
  },
  {
   "cell_type": "code",
   "execution_count": 43,
   "metadata": {},
   "outputs": [
    {
     "name": "stdout",
     "output_type": "stream",
     "text": [
      "              precision    recall  f1-score   support\n",
      "\n",
      "       FALSE       0.85      0.94      0.89      2119\n",
      "       OTHER       0.46      0.25      0.32       396\n",
      "        TRUE       0.33      0.18      0.24       110\n",
      "\n",
      "    accuracy                           0.80      2625\n",
      "   macro avg       0.55      0.46      0.48      2625\n",
      "weighted avg       0.77      0.80      0.78      2625\n",
      "\n"
     ]
    }
   ],
   "source": [
    "print(classification_report(y_true=y_val, y_pred=pred))"
   ]
  },
  {
   "attachments": {},
   "cell_type": "markdown",
   "metadata": {},
   "source": [
    "## Eval on test "
   ]
  },
  {
   "cell_type": "code",
   "execution_count": 26,
   "metadata": {},
   "outputs": [
    {
     "data": {
      "text/plain": [
       "((1680, 3), (1680, 15))"
      ]
     },
     "execution_count": 26,
     "metadata": {},
     "output_type": "execute_result"
    }
   ],
   "source": [
    "test_set = pd.read_csv(\"../../../data/test_set.csv\", index_col=0)\n",
    "extracted_features_test = np.load(\"../../../data/extracted_features_test.npy\")\n",
    "test_set.shape, extracted_features_test.shape"
   ]
  },
  {
   "cell_type": "code",
   "execution_count": 27,
   "metadata": {},
   "outputs": [],
   "source": [
    "X_tfidf_test = vec.transform(X_test)\n",
    "X_doc2vec_test = pd.Series(X_test).apply(lambda x: vectorize_claim(x, doc2vec))\n",
    "X_doc2vec_test = np.vstack(X_doc2vec_test.values)\n",
    "X_glove_test = np.vstack([retrieve_wv_average(claim, glove) for claim in X_test])"
   ]
  },
  {
   "cell_type": "code",
   "execution_count": 28,
   "metadata": {},
   "outputs": [],
   "source": [
    "X_tfidf_test = svd.transform(X_tfidf_test)"
   ]
  },
  {
   "cell_type": "code",
   "execution_count": 29,
   "metadata": {},
   "outputs": [],
   "source": [
    "# combine features for x_test\n",
    "X_test = np.hstack((X_tfidf_test, X_doc2vec_test, X_glove_test, extracted_features_test))"
   ]
  },
  {
   "cell_type": "code",
   "execution_count": 30,
   "metadata": {},
   "outputs": [
    {
     "data": {
      "text/plain": [
       "(1680, 315)"
      ]
     },
     "execution_count": 30,
     "metadata": {},
     "output_type": "execute_result"
    }
   ],
   "source": [
    "X_test.shape"
   ]
  },
  {
   "cell_type": "code",
   "execution_count": 45,
   "metadata": {},
   "outputs": [
    {
     "name": "stdout",
     "output_type": "stream",
     "text": [
      "              precision    recall  f1-score   support\n",
      "\n",
      "       FALSE       0.51      0.85      0.64       700\n",
      "     NEITHER       0.59      0.29      0.39       679\n",
      "        TRUE       0.35      0.21      0.27       301\n",
      "\n",
      "    accuracy                           0.51      1680\n",
      "   macro avg       0.48      0.45      0.43      1680\n",
      "weighted avg       0.51      0.51      0.47      1680\n",
      "\n"
     ]
    },
    {
     "data": {
      "text/plain": [
       "FALSE      1164\n",
       "NEITHER     334\n",
       "TRUE        182\n",
       "dtype: int64"
      ]
     },
     "execution_count": 45,
     "metadata": {},
     "output_type": "execute_result"
    }
   ],
   "source": [
    "clf = mlp\n",
    "test_predictions = clf.predict(X_test)\n",
    "final_predictions = np.array([\"NEITHER\" if l == \"OTHER\" else l for l in test_predictions])\n",
    "print(classification_report(y_true= y_test, y_pred=final_predictions))\n",
    "pd.Series(final_predictions).value_counts()"
   ]
  }
 ],
 "metadata": {
  "kernelspec": {
   "display_name": "KDD",
   "language": "python",
   "name": "python3"
  },
  "language_info": {
   "codemirror_mode": {
    "name": "ipython",
    "version": 3
   },
   "file_extension": ".py",
   "mimetype": "text/x-python",
   "name": "python",
   "nbconvert_exporter": "python",
   "pygments_lexer": "ipython3",
   "version": "3.10.4"
  },
  "orig_nbformat": 4,
  "vscode": {
   "interpreter": {
    "hash": "86d1cac61c1a8a4ca677cb2a2078730a65cbf222114e2ee6531c514518eb6f30"
   }
  }
 },
 "nbformat": 4,
 "nbformat_minor": 2
}
