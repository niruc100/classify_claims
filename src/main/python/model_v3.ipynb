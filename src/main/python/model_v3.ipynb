{
 "cells": [
  {
   "attachments": {},
   "cell_type": "markdown",
   "metadata": {},
   "source": [
    "# Model Trained on Low-dimensional Handcrafted Features"
   ]
  },
  {
   "cell_type": "code",
   "execution_count": 3,
   "metadata": {},
   "outputs": [
    {
     "name": "stderr",
     "output_type": "stream",
     "text": [
      "[nltk_data] Downloading package vader_lexicon to\n",
      "[nltk_data]     C:\\Users\\nickr\\AppData\\Roaming\\nltk_data...\n",
      "[nltk_data]   Package vader_lexicon is already up-to-date!\n",
      "[nltk_data] Downloading package punkt to\n",
      "[nltk_data]     C:\\Users\\nickr\\AppData\\Roaming\\nltk_data...\n",
      "[nltk_data]   Package punkt is already up-to-date!\n"
     ]
    },
    {
     "data": {
      "text/plain": [
       "True"
      ]
     },
     "execution_count": 3,
     "metadata": {},
     "output_type": "execute_result"
    }
   ],
   "source": [
    "import numpy as np\n",
    "import pandas as pd\n",
    "import gensim\n",
    "import nltk\n",
    "from nltk.sentiment.vader import SentimentIntensityAnalyzer\n",
    "import text2emotion as te\n",
    "from sklearn.metrics import classification_report\n",
    "from nrclex import NRCLex\n",
    "from nltk.tokenize import word_tokenize\n",
    "import re\n",
    "from tqdm import tqdm\n",
    "tqdm.pandas()\n",
    "\n",
    "nltk.download(\"vader_lexicon\")\n",
    "nltk.download(\"punkt\")"
   ]
  },
  {
   "attachments": {},
   "cell_type": "markdown",
   "metadata": {},
   "source": [
    "## Load data"
   ]
  },
  {
   "cell_type": "code",
   "execution_count": 4,
   "metadata": {},
   "outputs": [],
   "source": [
    "claims = pd.read_csv(\"../../../data/preprocessed_claims_new.csv\", index_col=0)"
   ]
  },
  {
   "attachments": {},
   "cell_type": "markdown",
   "metadata": {},
   "source": [
    "## Feature extraction function"
   ]
  },
  {
   "cell_type": "code",
   "execution_count": 5,
   "metadata": {},
   "outputs": [],
   "source": [
    "def extract_features(claim, sid):\n",
    "    # fast\n",
    "    sentiment_score = np.fromiter(sid.polarity_scores(claim).values(), dtype=np.float64)\n",
    "    # this is quite slow\n",
    "    emotion_score = np.fromiter(te.get_emotion(claim).values(), dtype=np.float64)\n",
    "    #fast\n",
    "    emotion_strength = 1 / (len(NRCLex(claim).raw_emotion_scores) / 10 + 1e-8)\n",
    "    #fast\n",
    "    tokenized_claim = word_tokenize(claim)\n",
    "    N = len(tokenized_claim)\n",
    "    \n",
    "    num = 0.0\n",
    "    excl = 0.0\n",
    "    qest = 0.0\n",
    "    ent = 0.0\n",
    "    \n",
    "    for token in tokenized_claim:\n",
    "        if token.isdigit():\n",
    "            num += 1.0\n",
    "        if re.search(r\"\\!\", token, re.DOTALL) is not None:\n",
    "            excl += 1.0\n",
    "        if re.search(r\"\\?\", token, re.DOTALL) is not None:\n",
    "            qest += 1.0\n",
    "        if re.search(r\"[A-Z]\", token, re.DOTALL) is not None:\n",
    "            ent += 1.0\n",
    "    \n",
    "    word_scores = np.array([num, excl, qest, ent], dtype=np.float64) / N\n",
    "    \n",
    "    features = np.hstack((sentiment_score, emotion_score, emotion_strength, word_scores, np.array(N, dtype=np.float64)))\n",
    "    \n",
    "    return features"
   ]
  },
  {
   "cell_type": "code",
   "execution_count": 4,
   "metadata": {},
   "outputs": [],
   "source": [
    "sid = SentimentIntensityAnalyzer()"
   ]
  },
  {
   "cell_type": "code",
   "execution_count": 5,
   "metadata": {},
   "outputs": [
    {
     "name": "stderr",
     "output_type": "stream",
     "text": [
      "100%|██████████| 100/100 [00:43<00:00,  2.30it/s]\n"
     ]
    }
   ],
   "source": [
    "extracted_features_demo = claims[\"claim\"].iloc[:100].progress_apply(lambda x: extract_features(x, sid))"
   ]
  },
  {
   "cell_type": "code",
   "execution_count": 6,
   "metadata": {},
   "outputs": [
    {
     "data": {
      "text/plain": [
       "(100, 15)"
      ]
     },
     "execution_count": 6,
     "metadata": {},
     "output_type": "execute_result"
    }
   ],
   "source": [
    "X = np.stack(extracted_features_demo.values, axis=0)\n",
    "X.shape"
   ]
  },
  {
   "cell_type": "code",
   "execution_count": 7,
   "metadata": {},
   "outputs": [],
   "source": [
    "# for convenience\n",
    "#np.save(\"extracted_features_demo\", X)"
   ]
  },
  {
   "attachments": {},
   "cell_type": "markdown",
   "metadata": {},
   "source": [
    "## Train a model on extracted features"
   ]
  },
  {
   "cell_type": "code",
   "execution_count": 6,
   "metadata": {},
   "outputs": [],
   "source": [
    "from sklearn.neighbors import KNeighborsClassifier\n",
    "from sklearn.ensemble import RandomForestClassifier\n",
    "from sklearn.neural_network import MLPClassifier\n",
    "from sklearn.linear_model import PassiveAggressiveClassifier, SGDClassifier, LogisticRegression\n",
    "from sklearn.tree import DecisionTreeClassifier\n",
    "from sklearn.ensemble import VotingClassifier"
   ]
  },
  {
   "cell_type": "code",
   "execution_count": 7,
   "metadata": {},
   "outputs": [
    {
     "data": {
      "text/plain": [
       "((40608, 5), (40608, 15), (26895, 5), (26895, 15))"
      ]
     },
     "execution_count": 7,
     "metadata": {},
     "output_type": "execute_result"
    }
   ],
   "source": [
    "# load\n",
    "claims = pd.read_csv(\"../../../data/preprocessed_claims_new.csv\", index_col=0)\n",
    "augmented_claims = pd.read_csv(\"../../../data/augmented_claims.csv\", index_col=0)\n",
    "extracted_features = np.load(\"../../../data/extracted_features_preprocessed_claims_new.npy\")\n",
    "augmented_extracted_features = np.load(\"../../../data/extracted_features_augmented_claims.npy\")\n",
    "claims.shape, extracted_features.shape, augmented_claims.shape, augmented_extracted_features.shape"
   ]
  },
  {
   "cell_type": "code",
   "execution_count": 8,
   "metadata": {},
   "outputs": [
    {
     "data": {
      "text/plain": [
       "False"
      ]
     },
     "execution_count": 8,
     "metadata": {},
     "output_type": "execute_result"
    }
   ],
   "source": [
    "train_idx = claims[\"date\"].apply(lambda x : x.split(\"-\")[0]) != \"2022\"\n",
    "val_idx = claims[\"date\"].apply(lambda x : x.split(\"-\")[0]) == \"2022\"\n",
    "# double check\n",
    "\"2022\" in claims[train_idx][\"date\"].apply(lambda x: x.split(\"-\")[0]).value_counts().index"
   ]
  },
  {
   "cell_type": "code",
   "execution_count": 9,
   "metadata": {},
   "outputs": [
    {
     "data": {
      "text/plain": [
       "((37983, 15), (37983,), (2625, 15), (2625,))"
      ]
     },
     "execution_count": 9,
     "metadata": {},
     "output_type": "execute_result"
    }
   ],
   "source": [
    "X = extracted_features[train_idx]\n",
    "y = claims[train_idx][\"truth_rating\"].values\n",
    "X_val = extracted_features[val_idx]\n",
    "y_val = claims[val_idx][\"truth_rating\"].values\n",
    "X.shape, y.shape, X_val.shape, y_val.shape"
   ]
  },
  {
   "attachments": {},
   "cell_type": "markdown",
   "metadata": {},
   "source": [
    "#### For augmented data (all augmented claims are training data)"
   ]
  },
  {
   "cell_type": "code",
   "execution_count": 13,
   "metadata": {},
   "outputs": [
    {
     "data": {
      "text/plain": [
       "((26895, 15), (26895,))"
      ]
     },
     "execution_count": 13,
     "metadata": {},
     "output_type": "execute_result"
    }
   ],
   "source": [
    "X_aug = augmented_extracted_features\n",
    "y_aug = augmented_claims[\"truth_rating\"].values\n",
    "X_aug.shape , y_aug.shape"
   ]
  },
  {
   "attachments": {},
   "cell_type": "markdown",
   "metadata": {},
   "source": [
    "#### Define some helper functions"
   ]
  },
  {
   "cell_type": "code",
   "execution_count": 10,
   "metadata": {},
   "outputs": [],
   "source": [
    "def train_eval(clf, X_train, y_train, X_val, y_val):\n",
    "    clf.fit(X_train, y_train)\n",
    "    preds = clf.predict(X_val)\n",
    "    print(classification_report(y_true=y_val,y_pred=preds))"
   ]
  },
  {
   "cell_type": "code",
   "execution_count": 11,
   "metadata": {},
   "outputs": [],
   "source": [
    "def train_eval_ensemble(clfs, labels, X_train, y_train, X_val, y_val, voting=\"hard\"):\n",
    "    input = [(label, clf) for label, clf in zip(labels, clfs)]\n",
    "    clf = VotingClassifier(estimators= input, voting=voting, n_jobs=-1)\n",
    "    clf.fit(X_train, y_train)\n",
    "    preds = clf.predict(X_val)\n",
    "    print(classification_report(y_true=y_val,y_pred=preds))"
   ]
  },
  {
   "cell_type": "code",
   "execution_count": 63,
   "metadata": {},
   "outputs": [],
   "source": [
    "knn = KNeighborsClassifier(n_neighbors=45, n_jobs=-1) # n_neighbors 45 -> 45\n",
    "rfc = RandomForestClassifier(random_state=417, min_samples_leaf=3, n_jobs=-1)\n",
    "mlp = MLPClassifier(hidden_layer_sizes=(100, 100, 100), random_state=417, max_iter=500)\n",
    "#paclf = PassiveAggressiveClassifier(random_state=417, C=0.001, n_jobs=-1)\n",
    "sgd = SGDClassifier(loss=\"hinge\", random_state=417, n_jobs=-1)\n",
    "dtc = DecisionTreeClassifier(random_state=417, criterion=\"entropy\", min_samples_leaf=30)"
   ]
  },
  {
   "cell_type": "code",
   "execution_count": 64,
   "metadata": {},
   "outputs": [
    {
     "name": "stdout",
     "output_type": "stream",
     "text": [
      "              precision    recall  f1-score   support\n",
      "\n",
      "       FALSE       0.83      0.90      0.86      2119\n",
      "       OTHER       0.25      0.15      0.19       396\n",
      "        TRUE       0.14      0.11      0.12       110\n",
      "\n",
      "    accuracy                           0.76      2625\n",
      "   macro avg       0.41      0.39      0.39      2625\n",
      "weighted avg       0.71      0.76      0.73      2625\n",
      "\n"
     ]
    }
   ],
   "source": [
    "train_eval(dtc, X, y, X_val, y_val)"
   ]
  },
  {
   "cell_type": "code",
   "execution_count": 82,
   "metadata": {},
   "outputs": [
    {
     "name": "stdout",
     "output_type": "stream",
     "text": [
      "DecisionTreeClassifier(criterion='entropy', min_samples_leaf=17,\n",
      "                       random_state=417)\n",
      "              precision    recall  f1-score   support\n",
      "\n",
      "       FALSE       0.77      0.89      0.83      1256\n",
      "       OTHER       0.36      0.16      0.22       367\n",
      "        TRUE       0.24      0.28      0.26        72\n",
      "\n",
      "    accuracy                           0.71      1695\n",
      "   macro avg       0.46      0.44      0.44      1695\n",
      "weighted avg       0.66      0.71      0.67      1695\n",
      "\n",
      "____________________________________________________________________________________________________\n",
      "DecisionTreeClassifier(criterion='entropy', min_samples_leaf=18,\n",
      "                       random_state=417)\n",
      "              precision    recall  f1-score   support\n",
      "\n",
      "       FALSE       0.77      0.89      0.83      1256\n",
      "       OTHER       0.38      0.17      0.23       367\n",
      "        TRUE       0.24      0.28      0.26        72\n",
      "\n",
      "    accuracy                           0.71      1695\n",
      "   macro avg       0.47      0.45      0.44      1695\n",
      "weighted avg       0.67      0.71      0.68      1695\n",
      "\n",
      "____________________________________________________________________________________________________\n",
      "DecisionTreeClassifier(criterion='entropy', min_samples_leaf=19,\n",
      "                       random_state=417)\n",
      "              precision    recall  f1-score   support\n",
      "\n",
      "       FALSE       0.77      0.90      0.83      1256\n",
      "       OTHER       0.31      0.12      0.18       367\n",
      "        TRUE       0.27      0.31      0.29        72\n",
      "\n",
      "    accuracy                           0.71      1695\n",
      "   macro avg       0.45      0.44      0.43      1695\n",
      "weighted avg       0.65      0.71      0.66      1695\n",
      "\n",
      "____________________________________________________________________________________________________\n",
      "DecisionTreeClassifier(criterion='entropy', min_samples_leaf=20,\n",
      "                       random_state=417)\n",
      "              precision    recall  f1-score   support\n",
      "\n",
      "       FALSE       0.76      0.88      0.82      1256\n",
      "       OTHER       0.26      0.11      0.15       367\n",
      "        TRUE       0.26      0.31      0.28        72\n",
      "\n",
      "    accuracy                           0.69      1695\n",
      "   macro avg       0.43      0.43      0.42      1695\n",
      "weighted avg       0.63      0.69      0.65      1695\n",
      "\n",
      "____________________________________________________________________________________________________\n",
      "DecisionTreeClassifier(criterion='entropy', min_samples_leaf=25,\n",
      "                       random_state=417)\n",
      "              precision    recall  f1-score   support\n",
      "\n",
      "       FALSE       0.76      0.90      0.83      1256\n",
      "       OTHER       0.29      0.10      0.15       367\n",
      "        TRUE       0.21      0.22      0.21        72\n",
      "\n",
      "    accuracy                           0.70      1695\n",
      "   macro avg       0.42      0.41      0.40      1695\n",
      "weighted avg       0.64      0.70      0.65      1695\n",
      "\n",
      "____________________________________________________________________________________________________\n",
      "DecisionTreeClassifier(criterion='entropy', min_samples_leaf=30,\n",
      "                       random_state=417)\n",
      "              precision    recall  f1-score   support\n",
      "\n",
      "       FALSE       0.76      0.91      0.83      1256\n",
      "       OTHER       0.29      0.10      0.15       367\n",
      "        TRUE       0.22      0.19      0.20        72\n",
      "\n",
      "    accuracy                           0.70      1695\n",
      "   macro avg       0.42      0.40      0.39      1695\n",
      "weighted avg       0.63      0.70      0.65      1695\n",
      "\n",
      "____________________________________________________________________________________________________\n"
     ]
    }
   ],
   "source": [
    "ps = [17, 18, 19, 20, 25, 30]\n",
    "for p in ps:\n",
    "    clf = DecisionTreeClassifier(random_state=417, criterion=\"entropy\", min_samples_leaf=p)\n",
    "    print(clf)\n",
    "    train_eval(clf, X, y, X_val, y_val)\n",
    "    print(\"_\" *100)"
   ]
  },
  {
   "cell_type": "code",
   "execution_count": 23,
   "metadata": {},
   "outputs": [
    {
     "name": "stdout",
     "output_type": "stream",
     "text": [
      "              precision    recall  f1-score   support\n",
      "\n",
      "       FALSE       0.83      0.92      0.88      2119\n",
      "       OTHER       0.28      0.15      0.20       396\n",
      "        TRUE       0.12      0.06      0.08       110\n",
      "\n",
      "    accuracy                           0.77      2625\n",
      "   macro avg       0.41      0.38      0.39      2625\n",
      "weighted avg       0.72      0.77      0.74      2625\n",
      "\n"
     ]
    }
   ],
   "source": [
    "train_eval_ensemble([rfc, dtc], [\"1\", \"2\"], X, y, X_val, y_val, voting=\"soft\")"
   ]
  },
  {
   "cell_type": "code",
   "execution_count": 24,
   "metadata": {},
   "outputs": [
    {
     "data": {
      "text/html": [
       "<style>#sk-container-id-1 {color: black;background-color: white;}#sk-container-id-1 pre{padding: 0;}#sk-container-id-1 div.sk-toggleable {background-color: white;}#sk-container-id-1 label.sk-toggleable__label {cursor: pointer;display: block;width: 100%;margin-bottom: 0;padding: 0.3em;box-sizing: border-box;text-align: center;}#sk-container-id-1 label.sk-toggleable__label-arrow:before {content: \"▸\";float: left;margin-right: 0.25em;color: #696969;}#sk-container-id-1 label.sk-toggleable__label-arrow:hover:before {color: black;}#sk-container-id-1 div.sk-estimator:hover label.sk-toggleable__label-arrow:before {color: black;}#sk-container-id-1 div.sk-toggleable__content {max-height: 0;max-width: 0;overflow: hidden;text-align: left;background-color: #f0f8ff;}#sk-container-id-1 div.sk-toggleable__content pre {margin: 0.2em;color: black;border-radius: 0.25em;background-color: #f0f8ff;}#sk-container-id-1 input.sk-toggleable__control:checked~div.sk-toggleable__content {max-height: 200px;max-width: 100%;overflow: auto;}#sk-container-id-1 input.sk-toggleable__control:checked~label.sk-toggleable__label-arrow:before {content: \"▾\";}#sk-container-id-1 div.sk-estimator input.sk-toggleable__control:checked~label.sk-toggleable__label {background-color: #d4ebff;}#sk-container-id-1 div.sk-label input.sk-toggleable__control:checked~label.sk-toggleable__label {background-color: #d4ebff;}#sk-container-id-1 input.sk-hidden--visually {border: 0;clip: rect(1px 1px 1px 1px);clip: rect(1px, 1px, 1px, 1px);height: 1px;margin: -1px;overflow: hidden;padding: 0;position: absolute;width: 1px;}#sk-container-id-1 div.sk-estimator {font-family: monospace;background-color: #f0f8ff;border: 1px dotted black;border-radius: 0.25em;box-sizing: border-box;margin-bottom: 0.5em;}#sk-container-id-1 div.sk-estimator:hover {background-color: #d4ebff;}#sk-container-id-1 div.sk-parallel-item::after {content: \"\";width: 100%;border-bottom: 1px solid gray;flex-grow: 1;}#sk-container-id-1 div.sk-label:hover label.sk-toggleable__label {background-color: #d4ebff;}#sk-container-id-1 div.sk-serial::before {content: \"\";position: absolute;border-left: 1px solid gray;box-sizing: border-box;top: 0;bottom: 0;left: 50%;z-index: 0;}#sk-container-id-1 div.sk-serial {display: flex;flex-direction: column;align-items: center;background-color: white;padding-right: 0.2em;padding-left: 0.2em;position: relative;}#sk-container-id-1 div.sk-item {position: relative;z-index: 1;}#sk-container-id-1 div.sk-parallel {display: flex;align-items: stretch;justify-content: center;background-color: white;position: relative;}#sk-container-id-1 div.sk-item::before, #sk-container-id-1 div.sk-parallel-item::before {content: \"\";position: absolute;border-left: 1px solid gray;box-sizing: border-box;top: 0;bottom: 0;left: 50%;z-index: -1;}#sk-container-id-1 div.sk-parallel-item {display: flex;flex-direction: column;z-index: 1;position: relative;background-color: white;}#sk-container-id-1 div.sk-parallel-item:first-child::after {align-self: flex-end;width: 50%;}#sk-container-id-1 div.sk-parallel-item:last-child::after {align-self: flex-start;width: 50%;}#sk-container-id-1 div.sk-parallel-item:only-child::after {width: 0;}#sk-container-id-1 div.sk-dashed-wrapped {border: 1px dashed gray;margin: 0 0.4em 0.5em 0.4em;box-sizing: border-box;padding-bottom: 0.4em;background-color: white;}#sk-container-id-1 div.sk-label label {font-family: monospace;font-weight: bold;display: inline-block;line-height: 1.2em;}#sk-container-id-1 div.sk-label-container {text-align: center;}#sk-container-id-1 div.sk-container {/* jupyter's `normalize.less` sets `[hidden] { display: none; }` but bootstrap.min.css set `[hidden] { display: none !important; }` so we also need the `!important` here to be able to override the default hidden behavior on the sphinx rendered scikit-learn.org. See: https://github.com/scikit-learn/scikit-learn/issues/21755 */display: inline-block !important;position: relative;}#sk-container-id-1 div.sk-text-repr-fallback {display: none;}</style><div id=\"sk-container-id-1\" class=\"sk-top-container\"><div class=\"sk-text-repr-fallback\"><pre>VotingClassifier(estimators=[(&#x27;1&#x27;,\n",
       "                              RandomForestClassifier(min_samples_leaf=3,\n",
       "                                                     n_jobs=-1,\n",
       "                                                     random_state=417)),\n",
       "                             (&#x27;2&#x27;,\n",
       "                              DecisionTreeClassifier(criterion=&#x27;entropy&#x27;,\n",
       "                                                     min_samples_leaf=17,\n",
       "                                                     random_state=417))],\n",
       "                 n_jobs=-1, voting=&#x27;soft&#x27;)</pre><b>In a Jupyter environment, please rerun this cell to show the HTML representation or trust the notebook. <br />On GitHub, the HTML representation is unable to render, please try loading this page with nbviewer.org.</b></div><div class=\"sk-container\" hidden><div class=\"sk-item sk-dashed-wrapped\"><div class=\"sk-label-container\"><div class=\"sk-label sk-toggleable\"><input class=\"sk-toggleable__control sk-hidden--visually\" id=\"sk-estimator-id-1\" type=\"checkbox\" ><label for=\"sk-estimator-id-1\" class=\"sk-toggleable__label sk-toggleable__label-arrow\">VotingClassifier</label><div class=\"sk-toggleable__content\"><pre>VotingClassifier(estimators=[(&#x27;1&#x27;,\n",
       "                              RandomForestClassifier(min_samples_leaf=3,\n",
       "                                                     n_jobs=-1,\n",
       "                                                     random_state=417)),\n",
       "                             (&#x27;2&#x27;,\n",
       "                              DecisionTreeClassifier(criterion=&#x27;entropy&#x27;,\n",
       "                                                     min_samples_leaf=17,\n",
       "                                                     random_state=417))],\n",
       "                 n_jobs=-1, voting=&#x27;soft&#x27;)</pre></div></div></div><div class=\"sk-parallel\"><div class=\"sk-parallel-item\"><div class=\"sk-item\"><div class=\"sk-label-container\"><div class=\"sk-label sk-toggleable\"><label>1</label></div></div><div class=\"sk-serial\"><div class=\"sk-item\"><div class=\"sk-estimator sk-toggleable\"><input class=\"sk-toggleable__control sk-hidden--visually\" id=\"sk-estimator-id-2\" type=\"checkbox\" ><label for=\"sk-estimator-id-2\" class=\"sk-toggleable__label sk-toggleable__label-arrow\">RandomForestClassifier</label><div class=\"sk-toggleable__content\"><pre>RandomForestClassifier(min_samples_leaf=3, n_jobs=-1, random_state=417)</pre></div></div></div></div></div></div><div class=\"sk-parallel-item\"><div class=\"sk-item\"><div class=\"sk-label-container\"><div class=\"sk-label sk-toggleable\"><label>2</label></div></div><div class=\"sk-serial\"><div class=\"sk-item\"><div class=\"sk-estimator sk-toggleable\"><input class=\"sk-toggleable__control sk-hidden--visually\" id=\"sk-estimator-id-3\" type=\"checkbox\" ><label for=\"sk-estimator-id-3\" class=\"sk-toggleable__label sk-toggleable__label-arrow\">DecisionTreeClassifier</label><div class=\"sk-toggleable__content\"><pre>DecisionTreeClassifier(criterion=&#x27;entropy&#x27;, min_samples_leaf=17,\n",
       "                       random_state=417)</pre></div></div></div></div></div></div></div></div></div></div>"
      ],
      "text/plain": [
       "VotingClassifier(estimators=[('1',\n",
       "                              RandomForestClassifier(min_samples_leaf=3,\n",
       "                                                     n_jobs=-1,\n",
       "                                                     random_state=417)),\n",
       "                             ('2',\n",
       "                              DecisionTreeClassifier(criterion='entropy',\n",
       "                                                     min_samples_leaf=17,\n",
       "                                                     random_state=417))],\n",
       "                 n_jobs=-1, voting='soft')"
      ]
     },
     "execution_count": 24,
     "metadata": {},
     "output_type": "execute_result"
    }
   ],
   "source": [
    "vtn = VotingClassifier(estimators= [(\"1\", rfc), (\"2\", dtc)], voting=\"soft\", n_jobs=-1)\n",
    "vtn.fit(X, y)"
   ]
  },
  {
   "attachments": {},
   "cell_type": "markdown",
   "metadata": {},
   "source": [
    "### Eval on Test set"
   ]
  },
  {
   "cell_type": "code",
   "execution_count": 12,
   "metadata": {},
   "outputs": [
    {
     "data": {
      "text/plain": [
       "((1680, 3), (1680, 15))"
      ]
     },
     "execution_count": 12,
     "metadata": {},
     "output_type": "execute_result"
    }
   ],
   "source": [
    "extracted_features_test = np.load(\"../../../data/extracted_features_test.npy\")\n",
    "test_set = pd.read_csv(\"../../../data/test_set.csv\", index_col=0)\n",
    "test_set.shape, extracted_features_test.shape"
   ]
  },
  {
   "cell_type": "code",
   "execution_count": 13,
   "metadata": {},
   "outputs": [
    {
     "data": {
      "text/plain": [
       "((1680, 15), (1680,))"
      ]
     },
     "execution_count": 13,
     "metadata": {},
     "output_type": "execute_result"
    }
   ],
   "source": [
    "X_test = extracted_features_test\n",
    "y_test = test_set[\"label\"].values\n",
    "X_test.shape, y_test.shape"
   ]
  },
  {
   "cell_type": "code",
   "execution_count": 65,
   "metadata": {},
   "outputs": [
    {
     "name": "stdout",
     "output_type": "stream",
     "text": [
      "              precision    recall  f1-score   support\n",
      "\n",
      "       FALSE       0.46      0.90      0.61       700\n",
      "     NEITHER       0.59      0.20      0.29       679\n",
      "        TRUE       0.36      0.11      0.17       301\n",
      "\n",
      "    accuracy                           0.48      1680\n",
      "   macro avg       0.47      0.40      0.36      1680\n",
      "weighted avg       0.50      0.48      0.40      1680\n",
      "\n"
     ]
    },
    {
     "data": {
      "text/plain": [
       "FALSE      1362\n",
       "NEITHER     226\n",
       "TRUE         92\n",
       "dtype: int64"
      ]
     },
     "execution_count": 65,
     "metadata": {},
     "output_type": "execute_result"
    }
   ],
   "source": [
    "clf = dtc\n",
    "test_predictions = clf.predict(X_test)\n",
    "final_predictions = np.array([\"NEITHER\" if l == \"OTHER\" else l for l in test_predictions])\n",
    "print(classification_report(y_true= y_test, y_pred=final_predictions))\n",
    "pd.Series(final_predictions).value_counts()"
   ]
  },
  {
   "attachments": {},
   "cell_type": "markdown",
   "metadata": {},
   "source": [
    "### Bonus: Feature importance "
   ]
  },
  {
   "cell_type": "code",
   "execution_count": 62,
   "metadata": {},
   "outputs": [
    {
     "data": {
      "text/plain": [
       "array([0.05205377, 0.06632929, 0.021511  , 0.05191646, 0.00439509,\n",
       "       0.00693073, 0.03425165, 0.03262334, 0.04198849, 0.05775555,\n",
       "       0.06107909, 0.00227528, 0.07133161, 0.32528313, 0.17027553])"
      ]
     },
     "execution_count": 62,
     "metadata": {},
     "output_type": "execute_result"
    }
   ],
   "source": [
    "dtc.feature_importances_"
   ]
  }
 ],
 "metadata": {
  "kernelspec": {
   "display_name": "KDD",
   "language": "python",
   "name": "python3"
  },
  "language_info": {
   "codemirror_mode": {
    "name": "ipython",
    "version": 3
   },
   "file_extension": ".py",
   "mimetype": "text/x-python",
   "name": "python",
   "nbconvert_exporter": "python",
   "pygments_lexer": "ipython3",
   "version": "3.10.4"
  },
  "orig_nbformat": 4,
  "vscode": {
   "interpreter": {
    "hash": "86d1cac61c1a8a4ca677cb2a2078730a65cbf222114e2ee6531c514518eb6f30"
   }
  }
 },
 "nbformat": 4,
 "nbformat_minor": 2
}
