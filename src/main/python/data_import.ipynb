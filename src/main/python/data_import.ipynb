{
 "cells": [
  {
   "cell_type": "code",
   "execution_count": 7,
   "metadata": {},
   "outputs": [],
   "source": [
    "import pandas as pd\n",
    "from SPARQLWrapper import SPARQLWrapper, JSON\n",
    "from tqdm import tqdm"
   ]
  },
  {
   "cell_type": "code",
   "execution_count": 8,
   "metadata": {},
   "outputs": [],
   "source": [
    "test_IDs = pd.read_csv(\"../../../test_data/test_ids.csv\", header=None)[0].values"
   ]
  },
  {
   "cell_type": "code",
   "execution_count": 9,
   "metadata": {},
   "outputs": [
    {
     "data": {
      "text/plain": [
       "(1680,)"
      ]
     },
     "execution_count": 9,
     "metadata": {},
     "output_type": "execute_result"
    }
   ],
   "source": [
    "test_IDs.shape"
   ]
  },
  {
   "attachments": {},
   "cell_type": "markdown",
   "metadata": {},
   "source": [
    "### SPARQL queries"
   ]
  },
  {
   "cell_type": "code",
   "execution_count": 33,
   "metadata": {},
   "outputs": [],
   "source": [
    "old_base_query = \"\"\"\n",
    "\tPREFIX itsrdf:<https://www.w3.org/2005/11/its/rdf#>\n",
    "    PREFIX schema:<http://schema.org/>\n",
    "    PREFIX dbr:<http://dbpedia.org/resource/> \n",
    "    SELECT ?claim ?author ?inst ?text ?date ?ratval ?url  \n",
    "    WHERE { \n",
    "\t\t    {\n",
    "\t\t\t    SELECT ?claim ?author ?inst ?text ?date ?ratval ?url \n",
    "\t\t\t    WHERE {\n",
    "\t\t\t    ?review a schema:ClaimReview .\n",
    "            \t?review schema:url ?url .\n",
    "\t\t\t    ?review schema:reviewRating ?rating .\n",
    "\t\t\t    ?rating schema:alternateName ?ratval .\n",
    "\t\t\t    ?review schema:itemReviewed ?claim .\n",
    "\t\t\t    ?claim schema:text ?text .\n",
    "\t\t\t    ?claim schema:author ?oauthor .\n",
    "\t\t\t    ?oauthor schema:name ?author .\n",
    "   \t\t\t    ?review schema:author ?revauthor .\n",
    "                ?claim schema:datePublished ?date .\n",
    "                ?revauthor schema:name ?inst FILTER regex(?ratval , \"(^FALSE|TRUE|OTHER)\") \n",
    "\t\t\t    } ORDER BY ?claim \n",
    "\t\t    }\n",
    "\t    }  \n",
    "\tLIMIT 10000 OFFSET \"\"\""
   ]
  },
  {
   "cell_type": "code",
   "execution_count": 38,
   "metadata": {},
   "outputs": [],
   "source": [
    "base_query = \"\"\"\n",
    "\tPREFIX itsrdf:<https://www.w3.org/2005/11/its/rdf#>\n",
    "    PREFIX schema:<http://schema.org/>\n",
    "    PREFIX dbr:<http://dbpedia.org/resource/> \n",
    "    SELECT ?claim ?text ?date ?ratval \n",
    "    WHERE { \n",
    "\t\t    {\n",
    "\t\t\t    SELECT ?claim ?text ?date ?ratval \n",
    "\t\t\t    WHERE {\n",
    "\t\t\t    ?review a schema:ClaimReview .\n",
    "\t\t\t    ?review schema:reviewRating ?rating .\n",
    "\t\t\t    ?rating schema:alternateName ?ratval .\n",
    "\t\t\t    ?review schema:itemReviewed ?claim .\n",
    "\t\t\t    ?claim schema:text ?text .\n",
    "                ?claim schema:datePublished ?date .\n",
    "                FILTER regex(?ratval , \"(^FALSE|TRUE|OTHER)\") \n",
    "\t\t\t    } ORDER BY ?claim \n",
    "\t\t    }\n",
    "\t    }  \n",
    "\tLIMIT 10000 OFFSET \"\"\""
   ]
  },
  {
   "cell_type": "code",
   "execution_count": 11,
   "metadata": {},
   "outputs": [],
   "source": [
    "test_query = \"\"\"\n",
    "\tPREFIX itsrdf:<https://www.w3.org/2005/11/its/rdf#>\n",
    "    PREFIX schema:<http://schema.org/>\n",
    "    PREFIX dbr:<http://dbpedia.org/resource/> \n",
    "    SELECT ?claim ?text \n",
    "    WHERE{\n",
    "\t\t    {\n",
    "\t\t\t    SELECT ?claim ?text \n",
    "\t\t\t    WHERE {\n",
    "\t\t\t    ?claim a schema:CreativeWork .\n",
    "                ?claim schema:text ?text .\n",
    "\t\t\t    } \n",
    "\t\t    } FILTER regex(?claim ,\n",
    "\"\"\""
   ]
  },
  {
   "attachments": {},
   "cell_type": "markdown",
   "metadata": {},
   "source": [
    "### Query data for training"
   ]
  },
  {
   "cell_type": "code",
   "execution_count": 39,
   "metadata": {},
   "outputs": [],
   "source": [
    "\n",
    "sparql = SPARQLWrapper(\"https://data.gesis.org/claimskg/sparql\")\n",
    "query_results = []\n",
    "\n",
    "for i in range(6): # max 60k claims\n",
    "    offset = i * 10000\n",
    "    query = base_query + str(offset)\n",
    "    \n",
    "    sparql.setQuery(query)\n",
    "    \n",
    "    sparql.setReturnFormat(JSON)\n",
    "\n",
    "    results = sparql.query().convert()\n",
    "\n",
    "    results = pd.json_normalize(results[\"results\"][\"bindings\"])\n",
    "    \n",
    "    res = pd.DataFrame(results)\n",
    "    \n",
    "    query_results.append(res)"
   ]
  },
  {
   "cell_type": "code",
   "execution_count": 40,
   "metadata": {},
   "outputs": [],
   "source": [
    "claims = pd.concat(query_results, axis= 0)"
   ]
  },
  {
   "cell_type": "code",
   "execution_count": 42,
   "metadata": {},
   "outputs": [
    {
     "data": {
      "text/plain": [
       "(21209, 11)"
      ]
     },
     "execution_count": 42,
     "metadata": {},
     "output_type": "execute_result"
    }
   ],
   "source": [
    "claims.shape\n",
    "# 20957 with some duplicates for old_base_query\n",
    "# 21209 with some duplicates for base_query"
   ]
  },
  {
   "attachments": {},
   "cell_type": "markdown",
   "metadata": {},
   "source": [
    "### Query data for testing"
   ]
  },
  {
   "cell_type": "code",
   "execution_count": 43,
   "metadata": {},
   "outputs": [
    {
     "name": "stderr",
     "output_type": "stream",
     "text": [
      "100%|██████████| 1680/1680 [09:47<00:00,  2.86it/s]\n"
     ]
    }
   ],
   "source": [
    "# runs approximately 10min\n",
    "sparql = SPARQLWrapper(\"https://data.gesis.org/claimskg/sparql\")\n",
    "test_query_results = []\n",
    "\n",
    "for c in tqdm(test_IDs):\n",
    "    \n",
    "    query = test_query + f\"\\\"{c}\\\"\" + \")}\"\n",
    "    \n",
    "    sparql.setQuery(query)\n",
    "    \n",
    "    sparql.setReturnFormat(JSON)\n",
    "\n",
    "    results = sparql.query().convert()\n",
    "\n",
    "    results = pd.json_normalize(results[\"results\"][\"bindings\"])\n",
    "    \n",
    "    res = pd.DataFrame(results)\n",
    "    \n",
    "    test_query_results.append(res)"
   ]
  },
  {
   "cell_type": "code",
   "execution_count": 44,
   "metadata": {},
   "outputs": [],
   "source": [
    "test_queries = pd.concat(test_query_results, axis=0)"
   ]
  },
  {
   "cell_type": "code",
   "execution_count": 45,
   "metadata": {},
   "outputs": [
    {
     "data": {
      "text/plain": [
       "(1680, 5)"
      ]
     },
     "execution_count": 45,
     "metadata": {},
     "output_type": "execute_result"
    }
   ],
   "source": [
    "test_queries.shape"
   ]
  },
  {
   "attachments": {},
   "cell_type": "markdown",
   "metadata": {},
   "source": [
    "### Some reshaping"
   ]
  },
  {
   "cell_type": "code",
   "execution_count": 46,
   "metadata": {},
   "outputs": [],
   "source": [
    "claims = claims[[\"claim.value\", \"text.value\", \"date.value\", \"ratval.value\"]]"
   ]
  },
  {
   "cell_type": "code",
   "execution_count": 48,
   "metadata": {},
   "outputs": [],
   "source": [
    "claims = claims.rename(columns={\"claim.value\" : \"ID\",\n",
    "                        \"ratval.value\" : \"truth_rating\",\n",
    "                        \"text.value\" : \"claim\",\n",
    "                        \"date.value\":\"date\"})"
   ]
  },
  {
   "cell_type": "code",
   "execution_count": 49,
   "metadata": {},
   "outputs": [
    {
     "data": {
      "text/html": [
       "<div>\n",
       "<style scoped>\n",
       "    .dataframe tbody tr th:only-of-type {\n",
       "        vertical-align: middle;\n",
       "    }\n",
       "\n",
       "    .dataframe tbody tr th {\n",
       "        vertical-align: top;\n",
       "    }\n",
       "\n",
       "    .dataframe thead th {\n",
       "        text-align: right;\n",
       "    }\n",
       "</style>\n",
       "<table border=\"1\" class=\"dataframe\">\n",
       "  <thead>\n",
       "    <tr style=\"text-align: right;\">\n",
       "      <th></th>\n",
       "      <th>ID</th>\n",
       "      <th>claim</th>\n",
       "      <th>date</th>\n",
       "      <th>truth_rating</th>\n",
       "    </tr>\n",
       "  </thead>\n",
       "  <tbody>\n",
       "    <tr>\n",
       "      <th>0</th>\n",
       "      <td>http://data.gesis.org/claimskg/creative_work/0...</td>\n",
       "      <td>Actual video of Iraqi soldier saying goodbye t...</td>\n",
       "      <td>2021-07-07</td>\n",
       "      <td>FALSE</td>\n",
       "    </tr>\n",
       "    <tr>\n",
       "      <th>1</th>\n",
       "      <td>http://data.gesis.org/claimskg/creative_work/0...</td>\n",
       "      <td>Bus launched in August 2020 in Pakistan falls ...</td>\n",
       "      <td>2020-08-25</td>\n",
       "      <td>FALSE</td>\n",
       "    </tr>\n",
       "    <tr>\n",
       "      <th>2</th>\n",
       "      <td>http://data.gesis.org/claimskg/creative_work/0...</td>\n",
       "      <td>Another man was responsible for the assault th...</td>\n",
       "      <td>2018-09-28</td>\n",
       "      <td>OTHER</td>\n",
       "    </tr>\n",
       "    <tr>\n",
       "      <th>3</th>\n",
       "      <td>http://data.gesis.org/claimskg/creative_work/0...</td>\n",
       "      <td>U.S. President Joe Biden visited the Tree of L...</td>\n",
       "      <td>2021-09-03</td>\n",
       "      <td>FALSE</td>\n",
       "    </tr>\n",
       "    <tr>\n",
       "      <th>4</th>\n",
       "      <td>http://data.gesis.org/claimskg/creative_work/0...</td>\n",
       "      <td>Turkey legs sold in Disney's theme are actuall...</td>\n",
       "      <td>2017-03-13</td>\n",
       "      <td>FALSE</td>\n",
       "    </tr>\n",
       "  </tbody>\n",
       "</table>\n",
       "</div>"
      ],
      "text/plain": [
       "                                                  ID  \\\n",
       "0  http://data.gesis.org/claimskg/creative_work/0...   \n",
       "1  http://data.gesis.org/claimskg/creative_work/0...   \n",
       "2  http://data.gesis.org/claimskg/creative_work/0...   \n",
       "3  http://data.gesis.org/claimskg/creative_work/0...   \n",
       "4  http://data.gesis.org/claimskg/creative_work/0...   \n",
       "\n",
       "                                               claim        date truth_rating  \n",
       "0  Actual video of Iraqi soldier saying goodbye t...  2021-07-07        FALSE  \n",
       "1  Bus launched in August 2020 in Pakistan falls ...  2020-08-25        FALSE  \n",
       "2  Another man was responsible for the assault th...  2018-09-28        OTHER  \n",
       "3  U.S. President Joe Biden visited the Tree of L...  2021-09-03        FALSE  \n",
       "4  Turkey legs sold in Disney's theme are actuall...  2017-03-13        FALSE  "
      ]
     },
     "execution_count": 49,
     "metadata": {},
     "output_type": "execute_result"
    }
   ],
   "source": [
    "claims.head()"
   ]
  },
  {
   "cell_type": "code",
   "execution_count": 50,
   "metadata": {},
   "outputs": [],
   "source": [
    "test_queries = test_queries[[\"claim.value\", \"text.value\"]]"
   ]
  },
  {
   "cell_type": "code",
   "execution_count": 51,
   "metadata": {},
   "outputs": [],
   "source": [
    "test_queries = test_queries.rename(columns={\"claim.value\" : \"ID\", \"text.value\" : \"claim\"})"
   ]
  },
  {
   "cell_type": "code",
   "execution_count": 52,
   "metadata": {},
   "outputs": [
    {
     "data": {
      "text/html": [
       "<div>\n",
       "<style scoped>\n",
       "    .dataframe tbody tr th:only-of-type {\n",
       "        vertical-align: middle;\n",
       "    }\n",
       "\n",
       "    .dataframe tbody tr th {\n",
       "        vertical-align: top;\n",
       "    }\n",
       "\n",
       "    .dataframe thead th {\n",
       "        text-align: right;\n",
       "    }\n",
       "</style>\n",
       "<table border=\"1\" class=\"dataframe\">\n",
       "  <thead>\n",
       "    <tr style=\"text-align: right;\">\n",
       "      <th></th>\n",
       "      <th>ID</th>\n",
       "      <th>claim</th>\n",
       "    </tr>\n",
       "  </thead>\n",
       "  <tbody>\n",
       "    <tr>\n",
       "      <th>0</th>\n",
       "      <td>http://data.gesis.org/claimskg/creative_work/d...</td>\n",
       "      <td>A TikTok video shows a March 2022 school walko...</td>\n",
       "    </tr>\n",
       "    <tr>\n",
       "      <th>0</th>\n",
       "      <td>http://data.gesis.org/claimskg/creative_work/3...</td>\n",
       "      <td>Mattel sent Barbie dolls to the International ...</td>\n",
       "    </tr>\n",
       "    <tr>\n",
       "      <th>0</th>\n",
       "      <td>http://data.gesis.org/claimskg/creative_work/2...</td>\n",
       "      <td>'No one visiting Disney can get in” because of...</td>\n",
       "    </tr>\n",
       "    <tr>\n",
       "      <th>0</th>\n",
       "      <td>http://data.gesis.org/claimskg/creative_work/f...</td>\n",
       "      <td>Two years ago we were “drilling our own oil fo...</td>\n",
       "    </tr>\n",
       "    <tr>\n",
       "      <th>0</th>\n",
       "      <td>http://data.gesis.org/claimskg/creative_work/5...</td>\n",
       "      <td>Families could suffer a £2,000-a-year average ...</td>\n",
       "    </tr>\n",
       "  </tbody>\n",
       "</table>\n",
       "</div>"
      ],
      "text/plain": [
       "                                                  ID  \\\n",
       "0  http://data.gesis.org/claimskg/creative_work/d...   \n",
       "0  http://data.gesis.org/claimskg/creative_work/3...   \n",
       "0  http://data.gesis.org/claimskg/creative_work/2...   \n",
       "0  http://data.gesis.org/claimskg/creative_work/f...   \n",
       "0  http://data.gesis.org/claimskg/creative_work/5...   \n",
       "\n",
       "                                               claim  \n",
       "0  A TikTok video shows a March 2022 school walko...  \n",
       "0  Mattel sent Barbie dolls to the International ...  \n",
       "0  'No one visiting Disney can get in” because of...  \n",
       "0  Two years ago we were “drilling our own oil fo...  \n",
       "0  Families could suffer a £2,000-a-year average ...  "
      ]
     },
     "execution_count": 52,
     "metadata": {},
     "output_type": "execute_result"
    }
   ],
   "source": [
    "test_queries.head()"
   ]
  },
  {
   "attachments": {},
   "cell_type": "markdown",
   "metadata": {},
   "source": [
    "### Remove all test queries from claims (ensure they are not used for training)"
   ]
  },
  {
   "cell_type": "code",
   "execution_count": 54,
   "metadata": {},
   "outputs": [
    {
     "data": {
      "text/plain": [
       "(21209, 4)"
      ]
     },
     "execution_count": 54,
     "metadata": {},
     "output_type": "execute_result"
    }
   ],
   "source": [
    "claims.shape"
   ]
  },
  {
   "cell_type": "code",
   "execution_count": 58,
   "metadata": {},
   "outputs": [],
   "source": [
    "claims = claims.loc[~claims.ID.isin(test_IDs)]"
   ]
  },
  {
   "attachments": {},
   "cell_type": "markdown",
   "metadata": {},
   "source": [
    "### Save the queried data"
   ]
  },
  {
   "cell_type": "code",
   "execution_count": 59,
   "metadata": {},
   "outputs": [],
   "source": [
    "claims.reset_index(drop=True).to_csv(\"../../../data/raw_claims.csv\")"
   ]
  },
  {
   "cell_type": "code",
   "execution_count": 60,
   "metadata": {},
   "outputs": [],
   "source": [
    "test_queries.reset_index(drop=True).to_csv(\"../../../data/raw_test_claims.csv\")"
   ]
  }
 ],
 "metadata": {
  "kernelspec": {
   "display_name": "KDD",
   "language": "python",
   "name": "python3"
  },
  "language_info": {
   "codemirror_mode": {
    "name": "ipython",
    "version": 3
   },
   "file_extension": ".py",
   "mimetype": "text/x-python",
   "name": "python",
   "nbconvert_exporter": "python",
   "pygments_lexer": "ipython3",
   "version": "3.10.4 | packaged by conda-forge | (main, Mar 30 2022, 08:38:02) [MSC v.1916 64 bit (AMD64)]"
  },
  "orig_nbformat": 4,
  "vscode": {
   "interpreter": {
    "hash": "86d1cac61c1a8a4ca677cb2a2078730a65cbf222114e2ee6531c514518eb6f30"
   }
  }
 },
 "nbformat": 4,
 "nbformat_minor": 2
}
