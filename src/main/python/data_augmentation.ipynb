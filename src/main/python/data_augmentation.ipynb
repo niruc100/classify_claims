{
 "cells": [
  {
   "cell_type": "code",
   "execution_count": 2,
   "metadata": {},
   "outputs": [],
   "source": [
    "import pandas as pd\n",
    "import numpy as np\n",
    "from deep_translator import GoogleTranslator\n",
    "from tqdm import tqdm"
   ]
  },
  {
   "cell_type": "code",
   "execution_count": 3,
   "metadata": {},
   "outputs": [
    {
     "data": {
      "text/plain": [
       "(18897, 5)"
      ]
     },
     "execution_count": 3,
     "metadata": {},
     "output_type": "execute_result"
    }
   ],
   "source": [
    "claims = pd.read_csv(\"../../../data/preprocessed_claims.csv\", index_col=0)\n",
    "claims.shape"
   ]
  },
  {
   "attachments": {},
   "cell_type": "markdown",
   "metadata": {},
   "source": [
    "Apply augmentation only to training data but not to val or test data."
   ]
  },
  {
   "cell_type": "code",
   "execution_count": 4,
   "metadata": {},
   "outputs": [],
   "source": [
    "train_idx = claims[\"date\"].apply(lambda x : x.split(\"-\")[0]) != \"2022\""
   ]
  },
  {
   "cell_type": "code",
   "execution_count": 4,
   "metadata": {},
   "outputs": [
    {
     "data": {
      "text/plain": [
       "FALSE    9887\n",
       "OTHER    4312\n",
       "TRUE     3003\n",
       "Name: truth_rating, dtype: int64"
      ]
     },
     "execution_count": 4,
     "metadata": {},
     "output_type": "execute_result"
    }
   ],
   "source": [
    "claims[train_idx].truth_rating.value_counts()"
   ]
  },
  {
   "attachments": {},
   "cell_type": "markdown",
   "metadata": {},
   "source": [
    "To balance we need to double the \"OTHER\" claims and triple the \"TRUE\" claims."
   ]
  },
  {
   "cell_type": "code",
   "execution_count": 5,
   "metadata": {},
   "outputs": [],
   "source": [
    "training_claims = claims[train_idx]"
   ]
  },
  {
   "cell_type": "code",
   "execution_count": 6,
   "metadata": {},
   "outputs": [],
   "source": [
    "true_claims = training_claims[training_claims.truth_rating == \"TRUE\"]"
   ]
  },
  {
   "cell_type": "code",
   "execution_count": 7,
   "metadata": {},
   "outputs": [
    {
     "data": {
      "text/html": [
       "<div>\n",
       "<style scoped>\n",
       "    .dataframe tbody tr th:only-of-type {\n",
       "        vertical-align: middle;\n",
       "    }\n",
       "\n",
       "    .dataframe tbody tr th {\n",
       "        vertical-align: top;\n",
       "    }\n",
       "\n",
       "    .dataframe thead th {\n",
       "        text-align: right;\n",
       "    }\n",
       "</style>\n",
       "<table border=\"1\" class=\"dataframe\">\n",
       "  <thead>\n",
       "    <tr style=\"text-align: right;\">\n",
       "      <th></th>\n",
       "      <th>ID</th>\n",
       "      <th>claim</th>\n",
       "      <th>date</th>\n",
       "      <th>truth_rating</th>\n",
       "      <th>n_token</th>\n",
       "    </tr>\n",
       "  </thead>\n",
       "  <tbody>\n",
       "    <tr>\n",
       "      <th>13</th>\n",
       "      <td>http://data.gesis.org/claimskg/creative_work/0...</td>\n",
       "      <td>The producers of the Broadway musical 'Hamilto...</td>\n",
       "      <td>2016-11-21</td>\n",
       "      <td>TRUE</td>\n",
       "      <td>16</td>\n",
       "    </tr>\n",
       "    <tr>\n",
       "      <th>14</th>\n",
       "      <td>http://data.gesis.org/claimskg/creative_work/0...</td>\n",
       "      <td>Coca-Cola recalled an advertising poster due t...</td>\n",
       "      <td>2004-07-28</td>\n",
       "      <td>TRUE</td>\n",
       "      <td>14</td>\n",
       "    </tr>\n",
       "    <tr>\n",
       "      <th>15</th>\n",
       "      <td>http://data.gesis.org/claimskg/creative_work/0...</td>\n",
       "      <td>The number of votes held in the nine months si...</td>\n",
       "      <td>2018-03-15</td>\n",
       "      <td>TRUE</td>\n",
       "      <td>26</td>\n",
       "    </tr>\n",
       "    <tr>\n",
       "      <th>20</th>\n",
       "      <td>http://data.gesis.org/claimskg/creative_work/0...</td>\n",
       "      <td>A newborn child declared dead revived after be...</td>\n",
       "      <td>2013-06-06</td>\n",
       "      <td>TRUE</td>\n",
       "      <td>13</td>\n",
       "    </tr>\n",
       "    <tr>\n",
       "      <th>28</th>\n",
       "      <td>http://data.gesis.org/claimskg/creative_work/0...</td>\n",
       "      <td>The government is cutting the number of hospit...</td>\n",
       "      <td>2017-02-22</td>\n",
       "      <td>TRUE</td>\n",
       "      <td>9</td>\n",
       "    </tr>\n",
       "    <tr>\n",
       "      <th>...</th>\n",
       "      <td>...</td>\n",
       "      <td>...</td>\n",
       "      <td>...</td>\n",
       "      <td>...</td>\n",
       "      <td>...</td>\n",
       "    </tr>\n",
       "    <tr>\n",
       "      <th>18763</th>\n",
       "      <td>http://data.gesis.org/claimskg/creative_work/e...</td>\n",
       "      <td>A TikTok video shows a Starbucks order being d...</td>\n",
       "      <td>2021-07-26</td>\n",
       "      <td>TRUE</td>\n",
       "      <td>11</td>\n",
       "    </tr>\n",
       "    <tr>\n",
       "      <th>18804</th>\n",
       "      <td>http://data.gesis.org/claimskg/creative_work/e...</td>\n",
       "      <td>'Iron glasses belonging to a Yemeni child sold...</td>\n",
       "      <td>2020-05-24</td>\n",
       "      <td>TRUE</td>\n",
       "      <td>13</td>\n",
       "    </tr>\n",
       "    <tr>\n",
       "      <th>18843</th>\n",
       "      <td>http://data.gesis.org/claimskg/creative_work/f...</td>\n",
       "      <td>'The death of the artist Youssef Shaaban - tru...</td>\n",
       "      <td>2021-03-01</td>\n",
       "      <td>TRUE</td>\n",
       "      <td>10</td>\n",
       "    </tr>\n",
       "    <tr>\n",
       "      <th>18844</th>\n",
       "      <td>http://data.gesis.org/claimskg/creative_work/f...</td>\n",
       "      <td>Lac Vert in Soultzeren contains cyanobacteria ...</td>\n",
       "      <td>2020-07-20</td>\n",
       "      <td>TRUE</td>\n",
       "      <td>12</td>\n",
       "    </tr>\n",
       "    <tr>\n",
       "      <th>18851</th>\n",
       "      <td>http://data.gesis.org/claimskg/creative_work/f...</td>\n",
       "      <td>“Yes, true news: A billboard on the highway in...</td>\n",
       "      <td>2020-04-19</td>\n",
       "      <td>TRUE</td>\n",
       "      <td>25</td>\n",
       "    </tr>\n",
       "  </tbody>\n",
       "</table>\n",
       "<p>3003 rows × 5 columns</p>\n",
       "</div>"
      ],
      "text/plain": [
       "                                                      ID  \\\n",
       "13     http://data.gesis.org/claimskg/creative_work/0...   \n",
       "14     http://data.gesis.org/claimskg/creative_work/0...   \n",
       "15     http://data.gesis.org/claimskg/creative_work/0...   \n",
       "20     http://data.gesis.org/claimskg/creative_work/0...   \n",
       "28     http://data.gesis.org/claimskg/creative_work/0...   \n",
       "...                                                  ...   \n",
       "18763  http://data.gesis.org/claimskg/creative_work/e...   \n",
       "18804  http://data.gesis.org/claimskg/creative_work/e...   \n",
       "18843  http://data.gesis.org/claimskg/creative_work/f...   \n",
       "18844  http://data.gesis.org/claimskg/creative_work/f...   \n",
       "18851  http://data.gesis.org/claimskg/creative_work/f...   \n",
       "\n",
       "                                                   claim        date  \\\n",
       "13     The producers of the Broadway musical 'Hamilto...  2016-11-21   \n",
       "14     Coca-Cola recalled an advertising poster due t...  2004-07-28   \n",
       "15     The number of votes held in the nine months si...  2018-03-15   \n",
       "20     A newborn child declared dead revived after be...  2013-06-06   \n",
       "28     The government is cutting the number of hospit...  2017-02-22   \n",
       "...                                                  ...         ...   \n",
       "18763  A TikTok video shows a Starbucks order being d...  2021-07-26   \n",
       "18804  'Iron glasses belonging to a Yemeni child sold...  2020-05-24   \n",
       "18843  'The death of the artist Youssef Shaaban - tru...  2021-03-01   \n",
       "18844  Lac Vert in Soultzeren contains cyanobacteria ...  2020-07-20   \n",
       "18851  “Yes, true news: A billboard on the highway in...  2020-04-19   \n",
       "\n",
       "      truth_rating  n_token  \n",
       "13            TRUE       16  \n",
       "14            TRUE       14  \n",
       "15            TRUE       26  \n",
       "20            TRUE       13  \n",
       "28            TRUE        9  \n",
       "...            ...      ...  \n",
       "18763         TRUE       11  \n",
       "18804         TRUE       13  \n",
       "18843         TRUE       10  \n",
       "18844         TRUE       12  \n",
       "18851         TRUE       25  \n",
       "\n",
       "[3003 rows x 5 columns]"
      ]
     },
     "execution_count": 7,
     "metadata": {},
     "output_type": "execute_result"
    }
   ],
   "source": [
    "true_claims"
   ]
  },
  {
   "cell_type": "code",
   "execution_count": 8,
   "metadata": {},
   "outputs": [],
   "source": [
    "tc = true_claims.claim.values"
   ]
  },
  {
   "cell_type": "code",
   "execution_count": 6,
   "metadata": {},
   "outputs": [],
   "source": [
    "en_to_zh = GoogleTranslator(source='en', target='zh-CN')\n",
    "zh_to_en = GoogleTranslator(source='zh-CN', target='en')"
   ]
  },
  {
   "cell_type": "code",
   "execution_count": 20,
   "metadata": {},
   "outputs": [
    {
     "name": "stderr",
     "output_type": "stream",
     "text": [
      "100%|██████████| 3075/3075 [1:02:13<00:00,  1.21s/it]\n"
     ]
    }
   ],
   "source": [
    "translations_for_true_claims = [zh_to_en.translate(en_to_zh.translate(c)) for c in tqdm(tc)]"
   ]
  },
  {
   "cell_type": "code",
   "execution_count": 21,
   "metadata": {},
   "outputs": [],
   "source": [
    "#with open(\"translations_for_true_claim_zh\", \"wb\") as f:\n",
    "#   np.save(f, np.array(translations_for_true_claims))"
   ]
  },
  {
   "cell_type": "code",
   "execution_count": 10,
   "metadata": {},
   "outputs": [],
   "source": [
    "en_to_hi = GoogleTranslator(source='en', target='hi')\n",
    "hi_to_en = GoogleTranslator(source='hi', target='en')"
   ]
  },
  {
   "cell_type": "code",
   "execution_count": 11,
   "metadata": {},
   "outputs": [
    {
     "name": "stderr",
     "output_type": "stream",
     "text": [
      "100%|██████████| 3003/3003 [1:03:11<00:00,  1.26s/it]\n"
     ]
    }
   ],
   "source": [
    "translations_for_true_claims_hi = [hi_to_en.translate(en_to_hi.translate(c)) for c in tqdm(tc)]"
   ]
  },
  {
   "cell_type": "code",
   "execution_count": 12,
   "metadata": {},
   "outputs": [],
   "source": [
    "with open(\"translations_for_true_claims_hi\", \"wb\") as f:\n",
    "    np.save(f, np.array(translations_for_true_claims_hi))"
   ]
  },
  {
   "cell_type": "code",
   "execution_count": 7,
   "metadata": {},
   "outputs": [],
   "source": [
    "other_claims = training_claims[training_claims.truth_rating == \"OTHER\"]"
   ]
  },
  {
   "cell_type": "code",
   "execution_count": 8,
   "metadata": {},
   "outputs": [
    {
     "data": {
      "text/plain": [
       "(4312,)"
      ]
     },
     "execution_count": 8,
     "metadata": {},
     "output_type": "execute_result"
    }
   ],
   "source": [
    "oc = other_claims.claim.values\n",
    "oc.shape"
   ]
  },
  {
   "cell_type": "code",
   "execution_count": 9,
   "metadata": {},
   "outputs": [
    {
     "name": "stderr",
     "output_type": "stream",
     "text": [
      " 78%|███████▊  | 3366/4312 [2:00:03<37:14,  2.36s/it]  "
     ]
    }
   ],
   "source": [
    "translations_for_other_claims_zh = [zh_to_en.translate(en_to_zh.translate(c)) for c in tqdm(oc)]"
   ]
  },
  {
   "cell_type": "code",
   "execution_count": null,
   "metadata": {},
   "outputs": [],
   "source": [
    "with open(\"translations_for_other_claims_zh\", \"wb\") as f:\n",
    "    np.save(f, np.array(translations_for_other_claims_zh))"
   ]
  },
  {
   "attachments": {},
   "cell_type": "markdown",
   "metadata": {},
   "source": [
    "### Combine the augmented data with the original data"
   ]
  },
  {
   "cell_type": "code",
   "execution_count": 13,
   "metadata": {},
   "outputs": [],
   "source": [
    "tr_1 = training_claims[training_claims.truth_rating == \"TRUE\"].copy()"
   ]
  },
  {
   "cell_type": "code",
   "execution_count": 14,
   "metadata": {},
   "outputs": [
    {
     "data": {
      "text/plain": [
       "(3003,)"
      ]
     },
     "execution_count": 14,
     "metadata": {},
     "output_type": "execute_result"
    }
   ],
   "source": [
    "# first the en -> zh -> en translations of the true claims\n",
    "true_trans_1 = np.load(\"translations_for_true_claims_zh\")\n",
    "true_trans_1.shape"
   ]
  },
  {
   "cell_type": "code",
   "execution_count": 15,
   "metadata": {},
   "outputs": [
    {
     "data": {
      "text/html": [
       "<div>\n",
       "<style scoped>\n",
       "    .dataframe tbody tr th:only-of-type {\n",
       "        vertical-align: middle;\n",
       "    }\n",
       "\n",
       "    .dataframe tbody tr th {\n",
       "        vertical-align: top;\n",
       "    }\n",
       "\n",
       "    .dataframe thead th {\n",
       "        text-align: right;\n",
       "    }\n",
       "</style>\n",
       "<table border=\"1\" class=\"dataframe\">\n",
       "  <thead>\n",
       "    <tr style=\"text-align: right;\">\n",
       "      <th></th>\n",
       "      <th>ID</th>\n",
       "      <th>claim</th>\n",
       "      <th>date</th>\n",
       "      <th>truth_rating</th>\n",
       "      <th>n_token</th>\n",
       "    </tr>\n",
       "  </thead>\n",
       "  <tbody>\n",
       "    <tr>\n",
       "      <th>13</th>\n",
       "      <td>http://data.gesis.org/claimskg/creative_work/0...</td>\n",
       "      <td>The producers of the Broadway musical 'Hamilto...</td>\n",
       "      <td>2016-11-21</td>\n",
       "      <td>TRUE</td>\n",
       "      <td>16</td>\n",
       "    </tr>\n",
       "    <tr>\n",
       "      <th>14</th>\n",
       "      <td>http://data.gesis.org/claimskg/creative_work/0...</td>\n",
       "      <td>Coca-Cola recalled an advertising poster due t...</td>\n",
       "      <td>2004-07-28</td>\n",
       "      <td>TRUE</td>\n",
       "      <td>14</td>\n",
       "    </tr>\n",
       "    <tr>\n",
       "      <th>15</th>\n",
       "      <td>http://data.gesis.org/claimskg/creative_work/0...</td>\n",
       "      <td>The number of votes held in the nine months si...</td>\n",
       "      <td>2018-03-15</td>\n",
       "      <td>TRUE</td>\n",
       "      <td>26</td>\n",
       "    </tr>\n",
       "    <tr>\n",
       "      <th>20</th>\n",
       "      <td>http://data.gesis.org/claimskg/creative_work/0...</td>\n",
       "      <td>A newborn child declared dead revived after be...</td>\n",
       "      <td>2013-06-06</td>\n",
       "      <td>TRUE</td>\n",
       "      <td>13</td>\n",
       "    </tr>\n",
       "    <tr>\n",
       "      <th>28</th>\n",
       "      <td>http://data.gesis.org/claimskg/creative_work/0...</td>\n",
       "      <td>The government is cutting the number of hospit...</td>\n",
       "      <td>2017-02-22</td>\n",
       "      <td>TRUE</td>\n",
       "      <td>9</td>\n",
       "    </tr>\n",
       "  </tbody>\n",
       "</table>\n",
       "</div>"
      ],
      "text/plain": [
       "                                                   ID  \\\n",
       "13  http://data.gesis.org/claimskg/creative_work/0...   \n",
       "14  http://data.gesis.org/claimskg/creative_work/0...   \n",
       "15  http://data.gesis.org/claimskg/creative_work/0...   \n",
       "20  http://data.gesis.org/claimskg/creative_work/0...   \n",
       "28  http://data.gesis.org/claimskg/creative_work/0...   \n",
       "\n",
       "                                                claim        date  \\\n",
       "13  The producers of the Broadway musical 'Hamilto...  2016-11-21   \n",
       "14  Coca-Cola recalled an advertising poster due t...  2004-07-28   \n",
       "15  The number of votes held in the nine months si...  2018-03-15   \n",
       "20  A newborn child declared dead revived after be...  2013-06-06   \n",
       "28  The government is cutting the number of hospit...  2017-02-22   \n",
       "\n",
       "   truth_rating  n_token  \n",
       "13         TRUE       16  \n",
       "14         TRUE       14  \n",
       "15         TRUE       26  \n",
       "20         TRUE       13  \n",
       "28         TRUE        9  "
      ]
     },
     "execution_count": 15,
     "metadata": {},
     "output_type": "execute_result"
    }
   ],
   "source": [
    "tr_1.head()"
   ]
  },
  {
   "cell_type": "code",
   "execution_count": 16,
   "metadata": {},
   "outputs": [],
   "source": [
    "tr_1[\"claim\"] = true_trans_1"
   ]
  },
  {
   "cell_type": "code",
   "execution_count": 18,
   "metadata": {},
   "outputs": [
    {
     "data": {
      "text/html": [
       "<div>\n",
       "<style scoped>\n",
       "    .dataframe tbody tr th:only-of-type {\n",
       "        vertical-align: middle;\n",
       "    }\n",
       "\n",
       "    .dataframe tbody tr th {\n",
       "        vertical-align: top;\n",
       "    }\n",
       "\n",
       "    .dataframe thead th {\n",
       "        text-align: right;\n",
       "    }\n",
       "</style>\n",
       "<table border=\"1\" class=\"dataframe\">\n",
       "  <thead>\n",
       "    <tr style=\"text-align: right;\">\n",
       "      <th></th>\n",
       "      <th>ID</th>\n",
       "      <th>claim</th>\n",
       "      <th>date</th>\n",
       "      <th>truth_rating</th>\n",
       "      <th>n_token</th>\n",
       "    </tr>\n",
       "  </thead>\n",
       "  <tbody>\n",
       "    <tr>\n",
       "      <th>13</th>\n",
       "      <td>http://data.gesis.org/claimskg/creative_work/0...</td>\n",
       "      <td>Producers of the Broadway musical \"Hamilton\" h...</td>\n",
       "      <td>2016-11-21</td>\n",
       "      <td>TRUE</td>\n",
       "      <td>16</td>\n",
       "    </tr>\n",
       "    <tr>\n",
       "      <th>14</th>\n",
       "      <td>http://data.gesis.org/claimskg/creative_work/0...</td>\n",
       "      <td>Coca-Cola has recalled an advertising poster b...</td>\n",
       "      <td>2004-07-28</td>\n",
       "      <td>TRUE</td>\n",
       "      <td>14</td>\n",
       "    </tr>\n",
       "    <tr>\n",
       "      <th>15</th>\n",
       "      <td>http://data.gesis.org/claimskg/creative_work/0...</td>\n",
       "      <td>The turnout in the nine months since the elect...</td>\n",
       "      <td>2018-03-15</td>\n",
       "      <td>TRUE</td>\n",
       "      <td>26</td>\n",
       "    </tr>\n",
       "    <tr>\n",
       "      <th>20</th>\n",
       "      <td>http://data.gesis.org/claimskg/creative_work/0...</td>\n",
       "      <td>A newborn baby who was declared dead has been ...</td>\n",
       "      <td>2013-06-06</td>\n",
       "      <td>TRUE</td>\n",
       "      <td>13</td>\n",
       "    </tr>\n",
       "    <tr>\n",
       "      <th>28</th>\n",
       "      <td>http://data.gesis.org/claimskg/creative_work/0...</td>\n",
       "      <td>The government is cutting the number of hospit...</td>\n",
       "      <td>2017-02-22</td>\n",
       "      <td>TRUE</td>\n",
       "      <td>9</td>\n",
       "    </tr>\n",
       "  </tbody>\n",
       "</table>\n",
       "</div>"
      ],
      "text/plain": [
       "                                                   ID  \\\n",
       "13  http://data.gesis.org/claimskg/creative_work/0...   \n",
       "14  http://data.gesis.org/claimskg/creative_work/0...   \n",
       "15  http://data.gesis.org/claimskg/creative_work/0...   \n",
       "20  http://data.gesis.org/claimskg/creative_work/0...   \n",
       "28  http://data.gesis.org/claimskg/creative_work/0...   \n",
       "\n",
       "                                                claim        date  \\\n",
       "13  Producers of the Broadway musical \"Hamilton\" h...  2016-11-21   \n",
       "14  Coca-Cola has recalled an advertising poster b...  2004-07-28   \n",
       "15  The turnout in the nine months since the elect...  2018-03-15   \n",
       "20  A newborn baby who was declared dead has been ...  2013-06-06   \n",
       "28  The government is cutting the number of hospit...  2017-02-22   \n",
       "\n",
       "   truth_rating  n_token  \n",
       "13         TRUE       16  \n",
       "14         TRUE       14  \n",
       "15         TRUE       26  \n",
       "20         TRUE       13  \n",
       "28         TRUE        9  "
      ]
     },
     "execution_count": 18,
     "metadata": {},
     "output_type": "execute_result"
    }
   ],
   "source": [
    "tr_1.head()"
   ]
  },
  {
   "cell_type": "code",
   "execution_count": 19,
   "metadata": {},
   "outputs": [
    {
     "data": {
      "text/plain": [
       "(3003,)"
      ]
     },
     "execution_count": 19,
     "metadata": {},
     "output_type": "execute_result"
    }
   ],
   "source": [
    "# now for the en -> hi -> en translations\n",
    "true_trans_2 = np.load(\"translations_for_true_claims_hi\")\n",
    "true_trans_2.shape"
   ]
  },
  {
   "cell_type": "code",
   "execution_count": 20,
   "metadata": {},
   "outputs": [],
   "source": [
    "tr_2 = training_claims[training_claims.truth_rating == \"TRUE\"].copy()"
   ]
  },
  {
   "cell_type": "code",
   "execution_count": 21,
   "metadata": {},
   "outputs": [
    {
     "data": {
      "text/html": [
       "<div>\n",
       "<style scoped>\n",
       "    .dataframe tbody tr th:only-of-type {\n",
       "        vertical-align: middle;\n",
       "    }\n",
       "\n",
       "    .dataframe tbody tr th {\n",
       "        vertical-align: top;\n",
       "    }\n",
       "\n",
       "    .dataframe thead th {\n",
       "        text-align: right;\n",
       "    }\n",
       "</style>\n",
       "<table border=\"1\" class=\"dataframe\">\n",
       "  <thead>\n",
       "    <tr style=\"text-align: right;\">\n",
       "      <th></th>\n",
       "      <th>ID</th>\n",
       "      <th>claim</th>\n",
       "      <th>date</th>\n",
       "      <th>truth_rating</th>\n",
       "      <th>n_token</th>\n",
       "    </tr>\n",
       "  </thead>\n",
       "  <tbody>\n",
       "    <tr>\n",
       "      <th>13</th>\n",
       "      <td>http://data.gesis.org/claimskg/creative_work/0...</td>\n",
       "      <td>The producers of the Broadway musical 'Hamilto...</td>\n",
       "      <td>2016-11-21</td>\n",
       "      <td>TRUE</td>\n",
       "      <td>16</td>\n",
       "    </tr>\n",
       "    <tr>\n",
       "      <th>14</th>\n",
       "      <td>http://data.gesis.org/claimskg/creative_work/0...</td>\n",
       "      <td>Coca-Cola recalled an advertising poster due t...</td>\n",
       "      <td>2004-07-28</td>\n",
       "      <td>TRUE</td>\n",
       "      <td>14</td>\n",
       "    </tr>\n",
       "    <tr>\n",
       "      <th>15</th>\n",
       "      <td>http://data.gesis.org/claimskg/creative_work/0...</td>\n",
       "      <td>The number of votes held in the nine months si...</td>\n",
       "      <td>2018-03-15</td>\n",
       "      <td>TRUE</td>\n",
       "      <td>26</td>\n",
       "    </tr>\n",
       "    <tr>\n",
       "      <th>20</th>\n",
       "      <td>http://data.gesis.org/claimskg/creative_work/0...</td>\n",
       "      <td>A newborn child declared dead revived after be...</td>\n",
       "      <td>2013-06-06</td>\n",
       "      <td>TRUE</td>\n",
       "      <td>13</td>\n",
       "    </tr>\n",
       "    <tr>\n",
       "      <th>28</th>\n",
       "      <td>http://data.gesis.org/claimskg/creative_work/0...</td>\n",
       "      <td>The government is cutting the number of hospit...</td>\n",
       "      <td>2017-02-22</td>\n",
       "      <td>TRUE</td>\n",
       "      <td>9</td>\n",
       "    </tr>\n",
       "  </tbody>\n",
       "</table>\n",
       "</div>"
      ],
      "text/plain": [
       "                                                   ID  \\\n",
       "13  http://data.gesis.org/claimskg/creative_work/0...   \n",
       "14  http://data.gesis.org/claimskg/creative_work/0...   \n",
       "15  http://data.gesis.org/claimskg/creative_work/0...   \n",
       "20  http://data.gesis.org/claimskg/creative_work/0...   \n",
       "28  http://data.gesis.org/claimskg/creative_work/0...   \n",
       "\n",
       "                                                claim        date  \\\n",
       "13  The producers of the Broadway musical 'Hamilto...  2016-11-21   \n",
       "14  Coca-Cola recalled an advertising poster due t...  2004-07-28   \n",
       "15  The number of votes held in the nine months si...  2018-03-15   \n",
       "20  A newborn child declared dead revived after be...  2013-06-06   \n",
       "28  The government is cutting the number of hospit...  2017-02-22   \n",
       "\n",
       "   truth_rating  n_token  \n",
       "13         TRUE       16  \n",
       "14         TRUE       14  \n",
       "15         TRUE       26  \n",
       "20         TRUE       13  \n",
       "28         TRUE        9  "
      ]
     },
     "execution_count": 21,
     "metadata": {},
     "output_type": "execute_result"
    }
   ],
   "source": [
    "tr_2.head()"
   ]
  },
  {
   "cell_type": "code",
   "execution_count": 22,
   "metadata": {},
   "outputs": [],
   "source": [
    "tr_2[\"claim\"] = true_trans_2"
   ]
  },
  {
   "cell_type": "code",
   "execution_count": 23,
   "metadata": {},
   "outputs": [
    {
     "data": {
      "text/html": [
       "<div>\n",
       "<style scoped>\n",
       "    .dataframe tbody tr th:only-of-type {\n",
       "        vertical-align: middle;\n",
       "    }\n",
       "\n",
       "    .dataframe tbody tr th {\n",
       "        vertical-align: top;\n",
       "    }\n",
       "\n",
       "    .dataframe thead th {\n",
       "        text-align: right;\n",
       "    }\n",
       "</style>\n",
       "<table border=\"1\" class=\"dataframe\">\n",
       "  <thead>\n",
       "    <tr style=\"text-align: right;\">\n",
       "      <th></th>\n",
       "      <th>ID</th>\n",
       "      <th>claim</th>\n",
       "      <th>date</th>\n",
       "      <th>truth_rating</th>\n",
       "      <th>n_token</th>\n",
       "    </tr>\n",
       "  </thead>\n",
       "  <tbody>\n",
       "    <tr>\n",
       "      <th>13</th>\n",
       "      <td>http://data.gesis.org/claimskg/creative_work/0...</td>\n",
       "      <td>The producers of the Broadway musical 'Hamilto...</td>\n",
       "      <td>2016-11-21</td>\n",
       "      <td>TRUE</td>\n",
       "      <td>16</td>\n",
       "    </tr>\n",
       "    <tr>\n",
       "      <th>14</th>\n",
       "      <td>http://data.gesis.org/claimskg/creative_work/0...</td>\n",
       "      <td>Coca-Cola has recalled an advertising poster b...</td>\n",
       "      <td>2004-07-28</td>\n",
       "      <td>TRUE</td>\n",
       "      <td>14</td>\n",
       "    </tr>\n",
       "    <tr>\n",
       "      <th>15</th>\n",
       "      <td>http://data.gesis.org/claimskg/creative_work/0...</td>\n",
       "      <td>The number of votes polled in the nine months ...</td>\n",
       "      <td>2018-03-15</td>\n",
       "      <td>TRUE</td>\n",
       "      <td>26</td>\n",
       "    </tr>\n",
       "    <tr>\n",
       "      <th>20</th>\n",
       "      <td>http://data.gesis.org/claimskg/creative_work/0...</td>\n",
       "      <td>A newborn baby who was declared dead came to l...</td>\n",
       "      <td>2013-06-06</td>\n",
       "      <td>TRUE</td>\n",
       "      <td>13</td>\n",
       "    </tr>\n",
       "    <tr>\n",
       "      <th>28</th>\n",
       "      <td>http://data.gesis.org/claimskg/creative_work/0...</td>\n",
       "      <td>The government is reducing the number of beds ...</td>\n",
       "      <td>2017-02-22</td>\n",
       "      <td>TRUE</td>\n",
       "      <td>9</td>\n",
       "    </tr>\n",
       "  </tbody>\n",
       "</table>\n",
       "</div>"
      ],
      "text/plain": [
       "                                                   ID  \\\n",
       "13  http://data.gesis.org/claimskg/creative_work/0...   \n",
       "14  http://data.gesis.org/claimskg/creative_work/0...   \n",
       "15  http://data.gesis.org/claimskg/creative_work/0...   \n",
       "20  http://data.gesis.org/claimskg/creative_work/0...   \n",
       "28  http://data.gesis.org/claimskg/creative_work/0...   \n",
       "\n",
       "                                                claim        date  \\\n",
       "13  The producers of the Broadway musical 'Hamilto...  2016-11-21   \n",
       "14  Coca-Cola has recalled an advertising poster b...  2004-07-28   \n",
       "15  The number of votes polled in the nine months ...  2018-03-15   \n",
       "20  A newborn baby who was declared dead came to l...  2013-06-06   \n",
       "28  The government is reducing the number of beds ...  2017-02-22   \n",
       "\n",
       "   truth_rating  n_token  \n",
       "13         TRUE       16  \n",
       "14         TRUE       14  \n",
       "15         TRUE       26  \n",
       "20         TRUE       13  \n",
       "28         TRUE        9  "
      ]
     },
     "execution_count": 23,
     "metadata": {},
     "output_type": "execute_result"
    }
   ],
   "source": [
    "tr_2.head()"
   ]
  },
  {
   "cell_type": "code",
   "execution_count": 24,
   "metadata": {},
   "outputs": [
    {
     "data": {
      "text/plain": [
       "(4312,)"
      ]
     },
     "execution_count": 24,
     "metadata": {},
     "output_type": "execute_result"
    }
   ],
   "source": [
    "# load for other claims from en -> zh -> en\n",
    "other_trans = np.load(\"translations_for_other_claims_zh_1\")\n",
    "other_trans.shape"
   ]
  },
  {
   "cell_type": "code",
   "execution_count": 25,
   "metadata": {},
   "outputs": [
    {
     "data": {
      "text/plain": [
       "(4312, 5)"
      ]
     },
     "execution_count": 25,
     "metadata": {},
     "output_type": "execute_result"
    }
   ],
   "source": [
    "ot = training_claims[training_claims.truth_rating == \"OTHER\"].copy()\n",
    "ot.shape"
   ]
  },
  {
   "cell_type": "code",
   "execution_count": 26,
   "metadata": {},
   "outputs": [
    {
     "data": {
      "text/html": [
       "<div>\n",
       "<style scoped>\n",
       "    .dataframe tbody tr th:only-of-type {\n",
       "        vertical-align: middle;\n",
       "    }\n",
       "\n",
       "    .dataframe tbody tr th {\n",
       "        vertical-align: top;\n",
       "    }\n",
       "\n",
       "    .dataframe thead th {\n",
       "        text-align: right;\n",
       "    }\n",
       "</style>\n",
       "<table border=\"1\" class=\"dataframe\">\n",
       "  <thead>\n",
       "    <tr style=\"text-align: right;\">\n",
       "      <th></th>\n",
       "      <th>ID</th>\n",
       "      <th>claim</th>\n",
       "      <th>date</th>\n",
       "      <th>truth_rating</th>\n",
       "      <th>n_token</th>\n",
       "    </tr>\n",
       "  </thead>\n",
       "  <tbody>\n",
       "    <tr>\n",
       "      <th>2</th>\n",
       "      <td>http://data.gesis.org/claimskg/creative_work/0...</td>\n",
       "      <td>Another man was responsible for the assault th...</td>\n",
       "      <td>2018-09-28</td>\n",
       "      <td>OTHER</td>\n",
       "      <td>19</td>\n",
       "    </tr>\n",
       "    <tr>\n",
       "      <th>5</th>\n",
       "      <td>http://data.gesis.org/claimskg/creative_work/0...</td>\n",
       "      <td>Nigel Farage once flirted with the idea of the...</td>\n",
       "      <td>2018-03-02</td>\n",
       "      <td>OTHER</td>\n",
       "      <td>14</td>\n",
       "    </tr>\n",
       "    <tr>\n",
       "      <th>6</th>\n",
       "      <td>http://data.gesis.org/claimskg/creative_work/0...</td>\n",
       "      <td>The government has given the NHS the money tha...</td>\n",
       "      <td>2017-09-29</td>\n",
       "      <td>OTHER</td>\n",
       "      <td>12</td>\n",
       "    </tr>\n",
       "    <tr>\n",
       "      <th>11</th>\n",
       "      <td>http://data.gesis.org/claimskg/creative_work/0...</td>\n",
       "      <td>The EU wants the UK to pay £60 billion before ...</td>\n",
       "      <td>2017-01-20</td>\n",
       "      <td>OTHER</td>\n",
       "      <td>16</td>\n",
       "    </tr>\n",
       "    <tr>\n",
       "      <th>22</th>\n",
       "      <td>http://data.gesis.org/claimskg/creative_work/0...</td>\n",
       "      <td>Businesses are celebrating their anniversaries...</td>\n",
       "      <td>2016-02-08</td>\n",
       "      <td>OTHER</td>\n",
       "      <td>19</td>\n",
       "    </tr>\n",
       "  </tbody>\n",
       "</table>\n",
       "</div>"
      ],
      "text/plain": [
       "                                                   ID  \\\n",
       "2   http://data.gesis.org/claimskg/creative_work/0...   \n",
       "5   http://data.gesis.org/claimskg/creative_work/0...   \n",
       "6   http://data.gesis.org/claimskg/creative_work/0...   \n",
       "11  http://data.gesis.org/claimskg/creative_work/0...   \n",
       "22  http://data.gesis.org/claimskg/creative_work/0...   \n",
       "\n",
       "                                                claim        date  \\\n",
       "2   Another man was responsible for the assault th...  2018-09-28   \n",
       "5   Nigel Farage once flirted with the idea of the...  2018-03-02   \n",
       "6   The government has given the NHS the money tha...  2017-09-29   \n",
       "11  The EU wants the UK to pay £60 billion before ...  2017-01-20   \n",
       "22  Businesses are celebrating their anniversaries...  2016-02-08   \n",
       "\n",
       "   truth_rating  n_token  \n",
       "2         OTHER       19  \n",
       "5         OTHER       14  \n",
       "6         OTHER       12  \n",
       "11        OTHER       16  \n",
       "22        OTHER       19  "
      ]
     },
     "execution_count": 26,
     "metadata": {},
     "output_type": "execute_result"
    }
   ],
   "source": [
    "ot.head()"
   ]
  },
  {
   "cell_type": "code",
   "execution_count": 27,
   "metadata": {},
   "outputs": [],
   "source": [
    "ot[\"claim\"] = other_trans"
   ]
  },
  {
   "cell_type": "code",
   "execution_count": 28,
   "metadata": {},
   "outputs": [
    {
     "data": {
      "text/html": [
       "<div>\n",
       "<style scoped>\n",
       "    .dataframe tbody tr th:only-of-type {\n",
       "        vertical-align: middle;\n",
       "    }\n",
       "\n",
       "    .dataframe tbody tr th {\n",
       "        vertical-align: top;\n",
       "    }\n",
       "\n",
       "    .dataframe thead th {\n",
       "        text-align: right;\n",
       "    }\n",
       "</style>\n",
       "<table border=\"1\" class=\"dataframe\">\n",
       "  <thead>\n",
       "    <tr style=\"text-align: right;\">\n",
       "      <th></th>\n",
       "      <th>ID</th>\n",
       "      <th>claim</th>\n",
       "      <th>date</th>\n",
       "      <th>truth_rating</th>\n",
       "      <th>n_token</th>\n",
       "    </tr>\n",
       "  </thead>\n",
       "  <tbody>\n",
       "    <tr>\n",
       "      <th>2</th>\n",
       "      <td>http://data.gesis.org/claimskg/creative_work/0...</td>\n",
       "      <td>Another man is responsible for an attack that ...</td>\n",
       "      <td>2018-09-28</td>\n",
       "      <td>OTHER</td>\n",
       "      <td>19</td>\n",
       "    </tr>\n",
       "    <tr>\n",
       "      <th>5</th>\n",
       "      <td>http://data.gesis.org/claimskg/creative_work/0...</td>\n",
       "      <td>Nigel Farage once dismissed the idea of ​​a se...</td>\n",
       "      <td>2018-03-02</td>\n",
       "      <td>OTHER</td>\n",
       "      <td>14</td>\n",
       "    </tr>\n",
       "    <tr>\n",
       "      <th>6</th>\n",
       "      <td>http://data.gesis.org/claimskg/creative_work/0...</td>\n",
       "      <td>The government has provided the NHS with the f...</td>\n",
       "      <td>2017-09-29</td>\n",
       "      <td>OTHER</td>\n",
       "      <td>12</td>\n",
       "    </tr>\n",
       "    <tr>\n",
       "      <th>11</th>\n",
       "      <td>http://data.gesis.org/claimskg/creative_work/0...</td>\n",
       "      <td>The EU wants Britain to pay £60bn before negot...</td>\n",
       "      <td>2017-01-20</td>\n",
       "      <td>OTHER</td>\n",
       "      <td>16</td>\n",
       "    </tr>\n",
       "    <tr>\n",
       "      <th>22</th>\n",
       "      <td>http://data.gesis.org/claimskg/creative_work/0...</td>\n",
       "      <td>Businesses celebrate their anniversaries by gi...</td>\n",
       "      <td>2016-02-08</td>\n",
       "      <td>OTHER</td>\n",
       "      <td>19</td>\n",
       "    </tr>\n",
       "  </tbody>\n",
       "</table>\n",
       "</div>"
      ],
      "text/plain": [
       "                                                   ID  \\\n",
       "2   http://data.gesis.org/claimskg/creative_work/0...   \n",
       "5   http://data.gesis.org/claimskg/creative_work/0...   \n",
       "6   http://data.gesis.org/claimskg/creative_work/0...   \n",
       "11  http://data.gesis.org/claimskg/creative_work/0...   \n",
       "22  http://data.gesis.org/claimskg/creative_work/0...   \n",
       "\n",
       "                                                claim        date  \\\n",
       "2   Another man is responsible for an attack that ...  2018-09-28   \n",
       "5   Nigel Farage once dismissed the idea of ​​a se...  2018-03-02   \n",
       "6   The government has provided the NHS with the f...  2017-09-29   \n",
       "11  The EU wants Britain to pay £60bn before negot...  2017-01-20   \n",
       "22  Businesses celebrate their anniversaries by gi...  2016-02-08   \n",
       "\n",
       "   truth_rating  n_token  \n",
       "2         OTHER       19  \n",
       "5         OTHER       14  \n",
       "6         OTHER       12  \n",
       "11        OTHER       16  \n",
       "22        OTHER       19  "
      ]
     },
     "execution_count": 28,
     "metadata": {},
     "output_type": "execute_result"
    }
   ],
   "source": [
    "ot.head()"
   ]
  },
  {
   "attachments": {},
   "cell_type": "markdown",
   "metadata": {},
   "source": [
    "### Combine all together into single df"
   ]
  },
  {
   "cell_type": "code",
   "execution_count": 29,
   "metadata": {},
   "outputs": [
    {
     "data": {
      "text/html": [
       "<div>\n",
       "<style scoped>\n",
       "    .dataframe tbody tr th:only-of-type {\n",
       "        vertical-align: middle;\n",
       "    }\n",
       "\n",
       "    .dataframe tbody tr th {\n",
       "        vertical-align: top;\n",
       "    }\n",
       "\n",
       "    .dataframe thead th {\n",
       "        text-align: right;\n",
       "    }\n",
       "</style>\n",
       "<table border=\"1\" class=\"dataframe\">\n",
       "  <thead>\n",
       "    <tr style=\"text-align: right;\">\n",
       "      <th></th>\n",
       "      <th>ID</th>\n",
       "      <th>claim</th>\n",
       "      <th>date</th>\n",
       "      <th>truth_rating</th>\n",
       "      <th>n_token</th>\n",
       "    </tr>\n",
       "  </thead>\n",
       "  <tbody>\n",
       "    <tr>\n",
       "      <th>0</th>\n",
       "      <td>http://data.gesis.org/claimskg/creative_work/0...</td>\n",
       "      <td>Actual video of Iraqi soldier saying goodbye t...</td>\n",
       "      <td>2021-07-07</td>\n",
       "      <td>FALSE</td>\n",
       "      <td>10</td>\n",
       "    </tr>\n",
       "    <tr>\n",
       "      <th>1</th>\n",
       "      <td>http://data.gesis.org/claimskg/creative_work/0...</td>\n",
       "      <td>Bus launched in August 2020 in Pakistan falls ...</td>\n",
       "      <td>2020-08-25</td>\n",
       "      <td>FALSE</td>\n",
       "      <td>11</td>\n",
       "    </tr>\n",
       "    <tr>\n",
       "      <th>2</th>\n",
       "      <td>http://data.gesis.org/claimskg/creative_work/0...</td>\n",
       "      <td>Another man was responsible for the assault th...</td>\n",
       "      <td>2018-09-28</td>\n",
       "      <td>OTHER</td>\n",
       "      <td>19</td>\n",
       "    </tr>\n",
       "    <tr>\n",
       "      <th>3</th>\n",
       "      <td>http://data.gesis.org/claimskg/creative_work/0...</td>\n",
       "      <td>U.S. President Joe Biden visited the Tree of L...</td>\n",
       "      <td>2021-09-03</td>\n",
       "      <td>FALSE</td>\n",
       "      <td>16</td>\n",
       "    </tr>\n",
       "    <tr>\n",
       "      <th>4</th>\n",
       "      <td>http://data.gesis.org/claimskg/creative_work/0...</td>\n",
       "      <td>Turkey legs sold in Disney's theme are actuall...</td>\n",
       "      <td>2017-03-13</td>\n",
       "      <td>FALSE</td>\n",
       "      <td>10</td>\n",
       "    </tr>\n",
       "    <tr>\n",
       "      <th>...</th>\n",
       "      <td>...</td>\n",
       "      <td>...</td>\n",
       "      <td>...</td>\n",
       "      <td>...</td>\n",
       "      <td>...</td>\n",
       "    </tr>\n",
       "    <tr>\n",
       "      <th>18892</th>\n",
       "      <td>http://data.gesis.org/claimskg/creative_work/f...</td>\n",
       "      <td>The boss of BioNTech does not want to be vacci...</td>\n",
       "      <td>2021-09-20</td>\n",
       "      <td>OTHER</td>\n",
       "      <td>10</td>\n",
       "    </tr>\n",
       "    <tr>\n",
       "      <th>18893</th>\n",
       "      <td>http://data.gesis.org/claimskg/creative_work/f...</td>\n",
       "      <td>opening dates of airports around the world by ...</td>\n",
       "      <td>2020-06-11</td>\n",
       "      <td>OTHER</td>\n",
       "      <td>14</td>\n",
       "    </tr>\n",
       "    <tr>\n",
       "      <th>18894</th>\n",
       "      <td>http://data.gesis.org/claimskg/creative_work/f...</td>\n",
       "      <td>A Togolese witch doctor was arrested on July 7...</td>\n",
       "      <td>2020-08-03</td>\n",
       "      <td>OTHER</td>\n",
       "      <td>27</td>\n",
       "    </tr>\n",
       "    <tr>\n",
       "      <th>18895</th>\n",
       "      <td>http://data.gesis.org/claimskg/creative_work/f...</td>\n",
       "      <td>The mask loses 20% of oxygen in the blood and ...</td>\n",
       "      <td>2020-09-04</td>\n",
       "      <td>OTHER</td>\n",
       "      <td>20</td>\n",
       "    </tr>\n",
       "    <tr>\n",
       "      <th>18896</th>\n",
       "      <td>http://data.gesis.org/claimskg/creative_work/f...</td>\n",
       "      <td>This photo is old and does not show Adel Abdul...</td>\n",
       "      <td>2021-11-30</td>\n",
       "      <td>OTHER</td>\n",
       "      <td>15</td>\n",
       "    </tr>\n",
       "  </tbody>\n",
       "</table>\n",
       "<p>17202 rows × 5 columns</p>\n",
       "</div>"
      ],
      "text/plain": [
       "                                                      ID  \\\n",
       "0      http://data.gesis.org/claimskg/creative_work/0...   \n",
       "1      http://data.gesis.org/claimskg/creative_work/0...   \n",
       "2      http://data.gesis.org/claimskg/creative_work/0...   \n",
       "3      http://data.gesis.org/claimskg/creative_work/0...   \n",
       "4      http://data.gesis.org/claimskg/creative_work/0...   \n",
       "...                                                  ...   \n",
       "18892  http://data.gesis.org/claimskg/creative_work/f...   \n",
       "18893  http://data.gesis.org/claimskg/creative_work/f...   \n",
       "18894  http://data.gesis.org/claimskg/creative_work/f...   \n",
       "18895  http://data.gesis.org/claimskg/creative_work/f...   \n",
       "18896  http://data.gesis.org/claimskg/creative_work/f...   \n",
       "\n",
       "                                                   claim        date  \\\n",
       "0      Actual video of Iraqi soldier saying goodbye t...  2021-07-07   \n",
       "1      Bus launched in August 2020 in Pakistan falls ...  2020-08-25   \n",
       "2      Another man was responsible for the assault th...  2018-09-28   \n",
       "3      U.S. President Joe Biden visited the Tree of L...  2021-09-03   \n",
       "4      Turkey legs sold in Disney's theme are actuall...  2017-03-13   \n",
       "...                                                  ...         ...   \n",
       "18892  The boss of BioNTech does not want to be vacci...  2021-09-20   \n",
       "18893  opening dates of airports around the world by ...  2020-06-11   \n",
       "18894  A Togolese witch doctor was arrested on July 7...  2020-08-03   \n",
       "18895  The mask loses 20% of oxygen in the blood and ...  2020-09-04   \n",
       "18896  This photo is old and does not show Adel Abdul...  2021-11-30   \n",
       "\n",
       "      truth_rating  n_token  \n",
       "0            FALSE       10  \n",
       "1            FALSE       11  \n",
       "2            OTHER       19  \n",
       "3            FALSE       16  \n",
       "4            FALSE       10  \n",
       "...            ...      ...  \n",
       "18892        OTHER       10  \n",
       "18893        OTHER       14  \n",
       "18894        OTHER       27  \n",
       "18895        OTHER       20  \n",
       "18896        OTHER       15  \n",
       "\n",
       "[17202 rows x 5 columns]"
      ]
     },
     "execution_count": 29,
     "metadata": {},
     "output_type": "execute_result"
    }
   ],
   "source": [
    "training_claims"
   ]
  },
  {
   "cell_type": "code",
   "execution_count": 34,
   "metadata": {},
   "outputs": [],
   "source": [
    "augmented_claims = pd.concat([training_claims, tr_1, tr_2, ot], axis=0)"
   ]
  },
  {
   "attachments": {},
   "cell_type": "markdown",
   "metadata": {},
   "source": [
    "Now remove duplicates and recount the n_token"
   ]
  },
  {
   "cell_type": "code",
   "execution_count": 36,
   "metadata": {},
   "outputs": [
    {
     "data": {
      "text/plain": [
       "(27520, 5)"
      ]
     },
     "execution_count": 36,
     "metadata": {},
     "output_type": "execute_result"
    }
   ],
   "source": [
    "augmented_claims.shape"
   ]
  },
  {
   "cell_type": "code",
   "execution_count": 38,
   "metadata": {},
   "outputs": [],
   "source": [
    "augmented_claims = augmented_claims.drop_duplicates(subset=\"claim\")"
   ]
  },
  {
   "cell_type": "code",
   "execution_count": 39,
   "metadata": {},
   "outputs": [],
   "source": [
    "def count_words(claim):\n",
    "        tokens = claim.split(\" \")\n",
    "        return len(tokens)"
   ]
  },
  {
   "cell_type": "code",
   "execution_count": 40,
   "metadata": {},
   "outputs": [],
   "source": [
    "augmented_claims[\"n_token\"] = augmented_claims[\"claim\"].apply(count_words)"
   ]
  },
  {
   "cell_type": "code",
   "execution_count": 41,
   "metadata": {},
   "outputs": [
    {
     "data": {
      "text/html": [
       "<div>\n",
       "<style scoped>\n",
       "    .dataframe tbody tr th:only-of-type {\n",
       "        vertical-align: middle;\n",
       "    }\n",
       "\n",
       "    .dataframe tbody tr th {\n",
       "        vertical-align: top;\n",
       "    }\n",
       "\n",
       "    .dataframe thead th {\n",
       "        text-align: right;\n",
       "    }\n",
       "</style>\n",
       "<table border=\"1\" class=\"dataframe\">\n",
       "  <thead>\n",
       "    <tr style=\"text-align: right;\">\n",
       "      <th></th>\n",
       "      <th>ID</th>\n",
       "      <th>claim</th>\n",
       "      <th>date</th>\n",
       "      <th>truth_rating</th>\n",
       "      <th>n_token</th>\n",
       "    </tr>\n",
       "  </thead>\n",
       "  <tbody>\n",
       "    <tr>\n",
       "      <th>0</th>\n",
       "      <td>http://data.gesis.org/claimskg/creative_work/0...</td>\n",
       "      <td>Actual video of Iraqi soldier saying goodbye t...</td>\n",
       "      <td>2021-07-07</td>\n",
       "      <td>FALSE</td>\n",
       "      <td>10</td>\n",
       "    </tr>\n",
       "    <tr>\n",
       "      <th>1</th>\n",
       "      <td>http://data.gesis.org/claimskg/creative_work/0...</td>\n",
       "      <td>Bus launched in August 2020 in Pakistan falls ...</td>\n",
       "      <td>2020-08-25</td>\n",
       "      <td>FALSE</td>\n",
       "      <td>11</td>\n",
       "    </tr>\n",
       "    <tr>\n",
       "      <th>2</th>\n",
       "      <td>http://data.gesis.org/claimskg/creative_work/0...</td>\n",
       "      <td>Another man was responsible for the assault th...</td>\n",
       "      <td>2018-09-28</td>\n",
       "      <td>OTHER</td>\n",
       "      <td>19</td>\n",
       "    </tr>\n",
       "    <tr>\n",
       "      <th>3</th>\n",
       "      <td>http://data.gesis.org/claimskg/creative_work/0...</td>\n",
       "      <td>U.S. President Joe Biden visited the Tree of L...</td>\n",
       "      <td>2021-09-03</td>\n",
       "      <td>FALSE</td>\n",
       "      <td>16</td>\n",
       "    </tr>\n",
       "    <tr>\n",
       "      <th>4</th>\n",
       "      <td>http://data.gesis.org/claimskg/creative_work/0...</td>\n",
       "      <td>Turkey legs sold in Disney's theme are actuall...</td>\n",
       "      <td>2017-03-13</td>\n",
       "      <td>FALSE</td>\n",
       "      <td>10</td>\n",
       "    </tr>\n",
       "    <tr>\n",
       "      <th>...</th>\n",
       "      <td>...</td>\n",
       "      <td>...</td>\n",
       "      <td>...</td>\n",
       "      <td>...</td>\n",
       "      <td>...</td>\n",
       "    </tr>\n",
       "    <tr>\n",
       "      <th>18892</th>\n",
       "      <td>http://data.gesis.org/claimskg/creative_work/f...</td>\n",
       "      <td>BioNTech boss doesn't want a vaccine</td>\n",
       "      <td>2021-09-20</td>\n",
       "      <td>OTHER</td>\n",
       "      <td>6</td>\n",
       "    </tr>\n",
       "    <tr>\n",
       "      <th>18893</th>\n",
       "      <td>http://data.gesis.org/claimskg/creative_work/f...</td>\n",
       "      <td>Airport Opening Dates Announced by the Interna...</td>\n",
       "      <td>2020-06-11</td>\n",
       "      <td>OTHER</td>\n",
       "      <td>14</td>\n",
       "    </tr>\n",
       "    <tr>\n",
       "      <th>18894</th>\n",
       "      <td>http://data.gesis.org/claimskg/creative_work/f...</td>\n",
       "      <td>On July 7, a Togolese witch doctor was arreste...</td>\n",
       "      <td>2020-08-03</td>\n",
       "      <td>OTHER</td>\n",
       "      <td>26</td>\n",
       "    </tr>\n",
       "    <tr>\n",
       "      <th>18895</th>\n",
       "      <td>http://data.gesis.org/claimskg/creative_work/f...</td>\n",
       "      <td>As carbon dioxide is reinfused with each inhal...</td>\n",
       "      <td>2020-09-04</td>\n",
       "      <td>OTHER</td>\n",
       "      <td>21</td>\n",
       "    </tr>\n",
       "    <tr>\n",
       "      <th>18896</th>\n",
       "      <td>http://data.gesis.org/claimskg/creative_work/f...</td>\n",
       "      <td>This photo is old and does not show Adel Abdul...</td>\n",
       "      <td>2021-11-30</td>\n",
       "      <td>OTHER</td>\n",
       "      <td>14</td>\n",
       "    </tr>\n",
       "  </tbody>\n",
       "</table>\n",
       "<p>26895 rows × 5 columns</p>\n",
       "</div>"
      ],
      "text/plain": [
       "                                                      ID  \\\n",
       "0      http://data.gesis.org/claimskg/creative_work/0...   \n",
       "1      http://data.gesis.org/claimskg/creative_work/0...   \n",
       "2      http://data.gesis.org/claimskg/creative_work/0...   \n",
       "3      http://data.gesis.org/claimskg/creative_work/0...   \n",
       "4      http://data.gesis.org/claimskg/creative_work/0...   \n",
       "...                                                  ...   \n",
       "18892  http://data.gesis.org/claimskg/creative_work/f...   \n",
       "18893  http://data.gesis.org/claimskg/creative_work/f...   \n",
       "18894  http://data.gesis.org/claimskg/creative_work/f...   \n",
       "18895  http://data.gesis.org/claimskg/creative_work/f...   \n",
       "18896  http://data.gesis.org/claimskg/creative_work/f...   \n",
       "\n",
       "                                                   claim        date  \\\n",
       "0      Actual video of Iraqi soldier saying goodbye t...  2021-07-07   \n",
       "1      Bus launched in August 2020 in Pakistan falls ...  2020-08-25   \n",
       "2      Another man was responsible for the assault th...  2018-09-28   \n",
       "3      U.S. President Joe Biden visited the Tree of L...  2021-09-03   \n",
       "4      Turkey legs sold in Disney's theme are actuall...  2017-03-13   \n",
       "...                                                  ...         ...   \n",
       "18892               BioNTech boss doesn't want a vaccine  2021-09-20   \n",
       "18893  Airport Opening Dates Announced by the Interna...  2020-06-11   \n",
       "18894  On July 7, a Togolese witch doctor was arreste...  2020-08-03   \n",
       "18895  As carbon dioxide is reinfused with each inhal...  2020-09-04   \n",
       "18896  This photo is old and does not show Adel Abdul...  2021-11-30   \n",
       "\n",
       "      truth_rating  n_token  \n",
       "0            FALSE       10  \n",
       "1            FALSE       11  \n",
       "2            OTHER       19  \n",
       "3            FALSE       16  \n",
       "4            FALSE       10  \n",
       "...            ...      ...  \n",
       "18892        OTHER        6  \n",
       "18893        OTHER       14  \n",
       "18894        OTHER       26  \n",
       "18895        OTHER       21  \n",
       "18896        OTHER       14  \n",
       "\n",
       "[26895 rows x 5 columns]"
      ]
     },
     "execution_count": 41,
     "metadata": {},
     "output_type": "execute_result"
    }
   ],
   "source": [
    "augmented_claims"
   ]
  },
  {
   "cell_type": "code",
   "execution_count": 42,
   "metadata": {},
   "outputs": [
    {
     "data": {
      "text/html": [
       "<div>\n",
       "<style scoped>\n",
       "    .dataframe tbody tr th:only-of-type {\n",
       "        vertical-align: middle;\n",
       "    }\n",
       "\n",
       "    .dataframe tbody tr th {\n",
       "        vertical-align: top;\n",
       "    }\n",
       "\n",
       "    .dataframe thead th {\n",
       "        text-align: right;\n",
       "    }\n",
       "</style>\n",
       "<table border=\"1\" class=\"dataframe\">\n",
       "  <thead>\n",
       "    <tr style=\"text-align: right;\">\n",
       "      <th></th>\n",
       "      <th>ID</th>\n",
       "      <th>claim</th>\n",
       "      <th>date</th>\n",
       "      <th>truth_rating</th>\n",
       "      <th>n_token</th>\n",
       "    </tr>\n",
       "  </thead>\n",
       "  <tbody>\n",
       "    <tr>\n",
       "      <th>16347</th>\n",
       "      <td>http://data.gesis.org/claimskg/creative_work/e...</td>\n",
       "      <td>Paper is stuck to President Donald Trump's sho...</td>\n",
       "      <td>2018-10-05</td>\n",
       "      <td>TRUE</td>\n",
       "      <td>21</td>\n",
       "    </tr>\n",
       "    <tr>\n",
       "      <th>13016</th>\n",
       "      <td>http://data.gesis.org/claimskg/creative_work/b...</td>\n",
       "      <td>Melania Trump once posted a photo of herself w...</td>\n",
       "      <td>2020-07-17</td>\n",
       "      <td>FALSE</td>\n",
       "      <td>22</td>\n",
       "    </tr>\n",
       "    <tr>\n",
       "      <th>7672</th>\n",
       "      <td>http://data.gesis.org/claimskg/creative_work/7...</td>\n",
       "      <td>Image of bomb blast in Pakistan's Lahore in 2021</td>\n",
       "      <td>2021-09-24</td>\n",
       "      <td>FALSE</td>\n",
       "      <td>9</td>\n",
       "    </tr>\n",
       "    <tr>\n",
       "      <th>9143</th>\n",
       "      <td>http://data.gesis.org/claimskg/creative_work/8...</td>\n",
       "      <td>The former Florida representative and 49ers qu...</td>\n",
       "      <td>2016-08-31</td>\n",
       "      <td>TRUE</td>\n",
       "      <td>18</td>\n",
       "    </tr>\n",
       "    <tr>\n",
       "      <th>16326</th>\n",
       "      <td>http://data.gesis.org/claimskg/creative_work/e...</td>\n",
       "      <td>Image shows police fleeing attack on headquart...</td>\n",
       "      <td>2021-03-23</td>\n",
       "      <td>FALSE</td>\n",
       "      <td>10</td>\n",
       "    </tr>\n",
       "    <tr>\n",
       "      <th>...</th>\n",
       "      <td>...</td>\n",
       "      <td>...</td>\n",
       "      <td>...</td>\n",
       "      <td>...</td>\n",
       "      <td>...</td>\n",
       "    </tr>\n",
       "    <tr>\n",
       "      <th>3460</th>\n",
       "      <td>http://data.gesis.org/claimskg/creative_work/3...</td>\n",
       "      <td>The protective ghost of toddler who died at a ...</td>\n",
       "      <td>1998-12-07</td>\n",
       "      <td>OTHER</td>\n",
       "      <td>18</td>\n",
       "    </tr>\n",
       "    <tr>\n",
       "      <th>10991</th>\n",
       "      <td>http://data.gesis.org/claimskg/creative_work/a...</td>\n",
       "      <td>\"America has lost a giant,\" former US Vice Pre...</td>\n",
       "      <td>2021-02-17</td>\n",
       "      <td>TRUE</td>\n",
       "      <td>20</td>\n",
       "    </tr>\n",
       "    <tr>\n",
       "      <th>16170</th>\n",
       "      <td>http://data.gesis.org/claimskg/creative_work/e...</td>\n",
       "      <td>Drinking a mixture of milk and cough syrup is ...</td>\n",
       "      <td>2020-02-27</td>\n",
       "      <td>FALSE</td>\n",
       "      <td>10</td>\n",
       "    </tr>\n",
       "    <tr>\n",
       "      <th>14911</th>\n",
       "      <td>http://data.gesis.org/claimskg/creative_work/d...</td>\n",
       "      <td>Photograph shows a newborn baby clutching an I...</td>\n",
       "      <td>2017-05-03</td>\n",
       "      <td>FALSE</td>\n",
       "      <td>11</td>\n",
       "    </tr>\n",
       "    <tr>\n",
       "      <th>16344</th>\n",
       "      <td>http://data.gesis.org/claimskg/creative_work/e...</td>\n",
       "      <td>Minaret was built to celebrate mass auction of...</td>\n",
       "      <td>2021-12-13</td>\n",
       "      <td>FALSE</td>\n",
       "      <td>12</td>\n",
       "    </tr>\n",
       "  </tbody>\n",
       "</table>\n",
       "<p>26895 rows × 5 columns</p>\n",
       "</div>"
      ],
      "text/plain": [
       "                                                      ID  \\\n",
       "16347  http://data.gesis.org/claimskg/creative_work/e...   \n",
       "13016  http://data.gesis.org/claimskg/creative_work/b...   \n",
       "7672   http://data.gesis.org/claimskg/creative_work/7...   \n",
       "9143   http://data.gesis.org/claimskg/creative_work/8...   \n",
       "16326  http://data.gesis.org/claimskg/creative_work/e...   \n",
       "...                                                  ...   \n",
       "3460   http://data.gesis.org/claimskg/creative_work/3...   \n",
       "10991  http://data.gesis.org/claimskg/creative_work/a...   \n",
       "16170  http://data.gesis.org/claimskg/creative_work/e...   \n",
       "14911  http://data.gesis.org/claimskg/creative_work/d...   \n",
       "16344  http://data.gesis.org/claimskg/creative_work/e...   \n",
       "\n",
       "                                                   claim        date  \\\n",
       "16347  Paper is stuck to President Donald Trump's sho...  2018-10-05   \n",
       "13016  Melania Trump once posted a photo of herself w...  2020-07-17   \n",
       "7672    Image of bomb blast in Pakistan's Lahore in 2021  2021-09-24   \n",
       "9143   The former Florida representative and 49ers qu...  2016-08-31   \n",
       "16326  Image shows police fleeing attack on headquart...  2021-03-23   \n",
       "...                                                  ...         ...   \n",
       "3460   The protective ghost of toddler who died at a ...  1998-12-07   \n",
       "10991  \"America has lost a giant,\" former US Vice Pre...  2021-02-17   \n",
       "16170  Drinking a mixture of milk and cough syrup is ...  2020-02-27   \n",
       "14911  Photograph shows a newborn baby clutching an I...  2017-05-03   \n",
       "16344  Minaret was built to celebrate mass auction of...  2021-12-13   \n",
       "\n",
       "      truth_rating  n_token  \n",
       "16347         TRUE       21  \n",
       "13016        FALSE       22  \n",
       "7672         FALSE        9  \n",
       "9143          TRUE       18  \n",
       "16326        FALSE       10  \n",
       "...            ...      ...  \n",
       "3460         OTHER       18  \n",
       "10991         TRUE       20  \n",
       "16170        FALSE       10  \n",
       "14911        FALSE       11  \n",
       "16344        FALSE       12  \n",
       "\n",
       "[26895 rows x 5 columns]"
      ]
     },
     "execution_count": 42,
     "metadata": {},
     "output_type": "execute_result"
    }
   ],
   "source": [
    "# finally some shuffle \n",
    "augmented_claims.sample(frac=1.0, random_state=417, replace=False)"
   ]
  },
  {
   "attachments": {},
   "cell_type": "markdown",
   "metadata": {},
   "source": [
    "### Save augmented data"
   ]
  },
  {
   "cell_type": "code",
   "execution_count": 45,
   "metadata": {},
   "outputs": [],
   "source": [
    "augmented_claims.reset_index(drop=True).to_csv(\"../../../data/augmented_claims.csv\")"
   ]
  }
 ],
 "metadata": {
  "kernelspec": {
   "display_name": "KDD",
   "language": "python",
   "name": "python3"
  },
  "language_info": {
   "codemirror_mode": {
    "name": "ipython",
    "version": 3
   },
   "file_extension": ".py",
   "mimetype": "text/x-python",
   "name": "python",
   "nbconvert_exporter": "python",
   "pygments_lexer": "ipython3",
   "version": "3.10.4"
  },
  "orig_nbformat": 4,
  "vscode": {
   "interpreter": {
    "hash": "86d1cac61c1a8a4ca677cb2a2078730a65cbf222114e2ee6531c514518eb6f30"
   }
  }
 },
 "nbformat": 4,
 "nbformat_minor": 2
}
