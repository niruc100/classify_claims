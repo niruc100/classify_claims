{
 "cells": [
  {
   "cell_type": "code",
   "execution_count": 29,
   "metadata": {},
   "outputs": [],
   "source": [
    "import pandas as pd\n",
    "import numpy as np\n",
    "import matplotlib.pyplot as plt\n",
    "from tqdm import tqdm\n",
    "tqdm.pandas()"
   ]
  },
  {
   "cell_type": "code",
   "execution_count": 2,
   "metadata": {},
   "outputs": [],
   "source": [
    "# no pre-processing for test claims\n",
    "claims = pd.read_csv(\"../../../data/raw_claims_new.csv\", sep=\",\", index_col=0)"
   ]
  },
  {
   "cell_type": "code",
   "execution_count": 3,
   "metadata": {},
   "outputs": [
    {
     "data": {
      "text/html": [
       "<div>\n",
       "<style scoped>\n",
       "    .dataframe tbody tr th:only-of-type {\n",
       "        vertical-align: middle;\n",
       "    }\n",
       "\n",
       "    .dataframe tbody tr th {\n",
       "        vertical-align: top;\n",
       "    }\n",
       "\n",
       "    .dataframe thead th {\n",
       "        text-align: right;\n",
       "    }\n",
       "</style>\n",
       "<table border=\"1\" class=\"dataframe\">\n",
       "  <thead>\n",
       "    <tr style=\"text-align: right;\">\n",
       "      <th></th>\n",
       "      <th>ID</th>\n",
       "      <th>claim</th>\n",
       "      <th>date</th>\n",
       "      <th>truth_rating</th>\n",
       "    </tr>\n",
       "  </thead>\n",
       "  <tbody>\n",
       "    <tr>\n",
       "      <th>0</th>\n",
       "      <td>http://data.gesis.org/claimskg/creative_work/0...</td>\n",
       "      <td>The EPA 'wants to hire 230,000 new government ...</td>\n",
       "      <td>2011-10-21</td>\n",
       "      <td>FALSE</td>\n",
       "    </tr>\n",
       "    <tr>\n",
       "      <th>1</th>\n",
       "      <td>http://data.gesis.org/claimskg/creative_work/0...</td>\n",
       "      <td>Actual video of Iraqi soldier saying goodbye t...</td>\n",
       "      <td>2021-06-09</td>\n",
       "      <td>FALSE</td>\n",
       "    </tr>\n",
       "    <tr>\n",
       "      <th>2</th>\n",
       "      <td>http://data.gesis.org/claimskg/creative_work/0...</td>\n",
       "      <td>Bus launched in August 2020 in Pakistan falls ...</td>\n",
       "      <td>2020-08-17</td>\n",
       "      <td>FALSE</td>\n",
       "    </tr>\n",
       "    <tr>\n",
       "      <th>3</th>\n",
       "      <td>http://data.gesis.org/claimskg/creative_work/0...</td>\n",
       "      <td>Another man was responsible for the assault th...</td>\n",
       "      <td>2018-09-28</td>\n",
       "      <td>OTHER</td>\n",
       "    </tr>\n",
       "    <tr>\n",
       "      <th>4</th>\n",
       "      <td>http://data.gesis.org/claimskg/creative_work/0...</td>\n",
       "      <td>U.S. President Joe Biden visited the Tree of L...</td>\n",
       "      <td>2021-09-03</td>\n",
       "      <td>FALSE</td>\n",
       "    </tr>\n",
       "  </tbody>\n",
       "</table>\n",
       "</div>"
      ],
      "text/plain": [
       "                                                  ID  \\\n",
       "0  http://data.gesis.org/claimskg/creative_work/0...   \n",
       "1  http://data.gesis.org/claimskg/creative_work/0...   \n",
       "2  http://data.gesis.org/claimskg/creative_work/0...   \n",
       "3  http://data.gesis.org/claimskg/creative_work/0...   \n",
       "4  http://data.gesis.org/claimskg/creative_work/0...   \n",
       "\n",
       "                                               claim        date truth_rating  \n",
       "0  The EPA 'wants to hire 230,000 new government ...  2011-10-21        FALSE  \n",
       "1  Actual video of Iraqi soldier saying goodbye t...  2021-06-09        FALSE  \n",
       "2  Bus launched in August 2020 in Pakistan falls ...  2020-08-17        FALSE  \n",
       "3  Another man was responsible for the assault th...  2018-09-28        OTHER  \n",
       "4  U.S. President Joe Biden visited the Tree of L...  2021-09-03        FALSE  "
      ]
     },
     "execution_count": 3,
     "metadata": {},
     "output_type": "execute_result"
    }
   ],
   "source": [
    "claims.head()"
   ]
  },
  {
   "attachments": {},
   "cell_type": "markdown",
   "metadata": {},
   "source": [
    "### Uniqueness of IDs"
   ]
  },
  {
   "cell_type": "code",
   "execution_count": 4,
   "metadata": {},
   "outputs": [
    {
     "data": {
      "text/plain": [
       "count                                                 47017\n",
       "unique                                                44463\n",
       "top       http://data.gesis.org/claimskg/creative_work/7...\n",
       "freq                                                    976\n",
       "Name: ID, dtype: object"
      ]
     },
     "execution_count": 4,
     "metadata": {},
     "output_type": "execute_result"
    }
   ],
   "source": [
    "claims.ID.describe()"
   ]
  },
  {
   "cell_type": "code",
   "execution_count": 5,
   "metadata": {},
   "outputs": [],
   "source": [
    "# drop duplicates\n",
    "claims = claims.drop_duplicates(subset=\"ID\")"
   ]
  },
  {
   "cell_type": "code",
   "execution_count": 6,
   "metadata": {},
   "outputs": [
    {
     "data": {
      "text/plain": [
       "count                                                 44463\n",
       "unique                                                44463\n",
       "top       http://data.gesis.org/claimskg/creative_work/0...\n",
       "freq                                                      1\n",
       "Name: ID, dtype: object"
      ]
     },
     "execution_count": 6,
     "metadata": {},
     "output_type": "execute_result"
    }
   ],
   "source": [
    "claims.ID.describe()"
   ]
  },
  {
   "attachments": {},
   "cell_type": "markdown",
   "metadata": {},
   "source": [
    "### Author is not the fact checking site\n",
    "\n",
    "Since we do not plan to use the author as a feature, we might ignore this removal in the future"
   ]
  },
  {
   "cell_type": "code",
   "execution_count": 23,
   "metadata": {},
   "outputs": [
    {
     "data": {
      "text/plain": [
       "False    19564\n",
       "True      1374\n",
       "dtype: int64"
      ]
     },
     "execution_count": 23,
     "metadata": {},
     "output_type": "execute_result"
    }
   ],
   "source": [
    "#(claims.claim_author == claims.review_instance).value_counts()"
   ]
  },
  {
   "cell_type": "code",
   "execution_count": 24,
   "metadata": {},
   "outputs": [
    {
     "data": {
      "text/plain": [
       "fatabyyano    1374\n",
       "Name: review_instance, dtype: int64"
      ]
     },
     "execution_count": 24,
     "metadata": {},
     "output_type": "execute_result"
    }
   ],
   "source": [
    "#claims[claims.claim_author == claims.review_instance].review_instance.value_counts()"
   ]
  },
  {
   "cell_type": "code",
   "execution_count": 25,
   "metadata": {},
   "outputs": [],
   "source": [
    "#claims = claims[claims.review_instance != \"fatabyyano\"]"
   ]
  },
  {
   "cell_type": "code",
   "execution_count": 26,
   "metadata": {},
   "outputs": [
    {
     "data": {
      "text/plain": [
       "False    19564\n",
       "dtype: int64"
      ]
     },
     "execution_count": 26,
     "metadata": {},
     "output_type": "execute_result"
    }
   ],
   "source": [
    "#(claims.claim_author == claims.review_instance).value_counts()"
   ]
  },
  {
   "attachments": {},
   "cell_type": "markdown",
   "metadata": {},
   "source": [
    "### Claim text is present "
   ]
  },
  {
   "cell_type": "code",
   "execution_count": 7,
   "metadata": {},
   "outputs": [
    {
     "data": {
      "text/plain": [
       "(44463, 4)"
      ]
     },
     "execution_count": 7,
     "metadata": {},
     "output_type": "execute_result"
    }
   ],
   "source": [
    "claims.shape"
   ]
  },
  {
   "cell_type": "code",
   "execution_count": 8,
   "metadata": {},
   "outputs": [],
   "source": [
    "claims = claims.drop(index = claims[claims.claim.isnull()].index)"
   ]
  },
  {
   "cell_type": "code",
   "execution_count": 9,
   "metadata": {},
   "outputs": [
    {
     "data": {
      "text/plain": [
       "(44387, 4)"
      ]
     },
     "execution_count": 9,
     "metadata": {},
     "output_type": "execute_result"
    }
   ],
   "source": [
    "claims.shape"
   ]
  },
  {
   "attachments": {},
   "cell_type": "markdown",
   "metadata": {},
   "source": [
    "### Claim author is present (ignored in final version)"
   ]
  },
  {
   "cell_type": "code",
   "execution_count": 28,
   "metadata": {},
   "outputs": [
    {
     "data": {
      "text/html": [
       "<div>\n",
       "<style scoped>\n",
       "    .dataframe tbody tr th:only-of-type {\n",
       "        vertical-align: middle;\n",
       "    }\n",
       "\n",
       "    .dataframe tbody tr th {\n",
       "        vertical-align: top;\n",
       "    }\n",
       "\n",
       "    .dataframe thead th {\n",
       "        text-align: right;\n",
       "    }\n",
       "</style>\n",
       "<table border=\"1\" class=\"dataframe\">\n",
       "  <thead>\n",
       "    <tr style=\"text-align: right;\">\n",
       "      <th></th>\n",
       "      <th>ID</th>\n",
       "      <th>claim_author</th>\n",
       "      <th>review_instance</th>\n",
       "      <th>claim</th>\n",
       "      <th>date</th>\n",
       "      <th>truth_rating</th>\n",
       "      <th>review_url</th>\n",
       "    </tr>\n",
       "  </thead>\n",
       "  <tbody>\n",
       "  </tbody>\n",
       "</table>\n",
       "</div>"
      ],
      "text/plain": [
       "Empty DataFrame\n",
       "Columns: [ID, claim_author, review_instance, claim, date, truth_rating, review_url]\n",
       "Index: []"
      ]
     },
     "execution_count": 28,
     "metadata": {},
     "output_type": "execute_result"
    }
   ],
   "source": [
    "#claims[claims.claim_author.isnull()]"
   ]
  },
  {
   "cell_type": "code",
   "execution_count": 29,
   "metadata": {},
   "outputs": [
    {
     "data": {
      "text/html": [
       "<div>\n",
       "<style scoped>\n",
       "    .dataframe tbody tr th:only-of-type {\n",
       "        vertical-align: middle;\n",
       "    }\n",
       "\n",
       "    .dataframe tbody tr th {\n",
       "        vertical-align: top;\n",
       "    }\n",
       "\n",
       "    .dataframe thead th {\n",
       "        text-align: right;\n",
       "    }\n",
       "</style>\n",
       "<table border=\"1\" class=\"dataframe\">\n",
       "  <thead>\n",
       "    <tr style=\"text-align: right;\">\n",
       "      <th></th>\n",
       "      <th>ID</th>\n",
       "      <th>claim_author</th>\n",
       "      <th>review_instance</th>\n",
       "      <th>claim</th>\n",
       "      <th>date</th>\n",
       "      <th>truth_rating</th>\n",
       "      <th>review_url</th>\n",
       "    </tr>\n",
       "  </thead>\n",
       "  <tbody>\n",
       "  </tbody>\n",
       "</table>\n",
       "</div>"
      ],
      "text/plain": [
       "Empty DataFrame\n",
       "Columns: [ID, claim_author, review_instance, claim, date, truth_rating, review_url]\n",
       "Index: []"
      ]
     },
     "execution_count": 29,
     "metadata": {},
     "output_type": "execute_result"
    }
   ],
   "source": [
    "#claims[claims.claim_author == \" \"]"
   ]
  },
  {
   "attachments": {},
   "cell_type": "markdown",
   "metadata": {},
   "source": [
    "### Claim duplicates"
   ]
  },
  {
   "cell_type": "code",
   "execution_count": 10,
   "metadata": {},
   "outputs": [],
   "source": [
    "c = claims.claim.value_counts().values"
   ]
  },
  {
   "cell_type": "code",
   "execution_count": 11,
   "metadata": {},
   "outputs": [],
   "source": [
    "doubles = claims.claim.value_counts().index[(c > 1)]"
   ]
  },
  {
   "cell_type": "code",
   "execution_count": 12,
   "metadata": {},
   "outputs": [
    {
     "data": {
      "text/plain": [
       "Index([''Nude Image'',\n",
       "       ''New species of coral…it was found near the Galápagos Islands…..WOW.'',\n",
       "       'On the Trans-Pacific Partnership.',\n",
       "       ''Two handfuls of cashews equivalent to a Prozac dose'',\n",
       "       ''Nrc started in assam.They have begun evicting people from their homes,the media doesn't show it ,they are already bought and gagged ,so it is our responsibility now to share this video.'',\n",
       "       '“U.S. military at the White House arresting Congress.”',\n",
       "       'Refugees or illegal immigrants living in Britain get a total yearly benefit of £29,900.',\n",
       "       'On a cap-and-trade plan.',\n",
       "       ''റോക്കറ്റ് വിക്ഷേപിച്ച് ഏതാനും നിമിഷങ്ങൾക്കുള്ളിൽ വായുവിൽ പൊട്ടിത്തെറിക്കുന്ന ഒരു വീഡിയോ വൈറൽ ആകുന്നു. ഈ വീഡിയോ ഒരു ഇന്ത്യൻ മിസൈലിന്റെ പരീക്ഷണം പരാജയപ്പെട്ടതാണെന്ന അവകാശവാദത്തോടെ ആണ് പ്രചരിക്കുന്നത്.'',\n",
       "       ''What #BoycottTanishq is on Twitter and what it actually is. From one lakh twelve thousand to 200 rupees.'',\n",
       "       ''पन्द्रह जून के बाद फिर से हो सकता है सम्पूर्ण लॉकडॉउन गृह मंत्रालय ने दिये संकेत ट्रेन और हवाई सफर पे लगेगा ब्रेक ।'',\n",
       "       'On torture.',\n",
       "       ''It was sometime in the mid 1880s. Eden Gardens was around 20 years old, and hosting a match between Calcutta Cricket Club (CCC), the then occupants of the ground, and Town Club. Representing the latter, one Narendranath Datta took seven wickets. He did not pursue cricket, but went on to become a global figure known by another name: Swami Vivekanand.'',\n",
       "       ''Blue-colored apple made in China'',\n",
       "       ''नक्कली सेनेताईज़र बना के देश कि सेवा करते हुवे देश प्रेमी मोलवी ।।अब घिन आने लगी है इन हरामियो से'',\n",
       "       'Shamima Begum is back in the UK.',\n",
       "       'Un visuel démontrant le faible impact de l'épidémie de Covid-19 en France',\n",
       "       'Cette vidéo montre Bernard-Henri Lévy parmi des 'jihadistes' au Mali',\n",
       "       'Woman takes revenge on her cheating husband by advertising his infidelities on a billboard.',\n",
       "       ''کشمیر کی تصویر'',\n",
       "       ''It is not possible to come to power in West Bengal in 2021 elections. BJP's central supervisor team has informed.'',\n",
       "       ''Did you think it was packed chickens. No, these are the people who died due to Corona.'',\n",
       "       ''Six justices' on the U.S. Supreme Court have been 'confirmed in presidential election years since 1912.'',\n",
       "       'On confirming a Supreme Court nominee in a presidential election year.',\n",
       "       ''COVID-19 found in tissue paper'', 'On abortion',\n",
       "       ''World Health Organization (WHO) is offering work from home jobs to people who can send sms; no experience required'',\n",
       "       'On support for gay marriage.', ''कैसा साथ ? Remove करो मामला खत्म'',\n",
       "       ''Muslims are oppressed in India and will continue to be oppressed if we do not protect them. It's time to be unity. The Indian government will account!'',\n",
       "       'On Common Core.', 'false',\n",
       "       ''Ongoing #KishanAndolan at Pnjab, Hryana & othr States. Luk at the Police unifrm, his attitude twrds the old protsting Farmer, And indmitable spirit of the Farmer. Aisa hi Police unifrm Jamia, UP,JNU #CAA protst ke dauran dekha gaya tha ..... Desh Nagpur chlata hai.Koi sarkar nhi'',\n",
       "       'Covid-19 has a survival rate of 99.8%.', ''अमित शाह का ट्वीट'',\n",
       "       'Ce sont des décisions prises par Donald Trump',\n",
       "       ''Fake Cashews Getting Manufactured In Market'', 'On high-speed rail.',\n",
       "       ''काश किसानों की तरह पढ़े-लिखे लोग भी सड़कों पर आ जाते, न एयरपोर्ट बिकता, न रेलवे स्टेशन, न LIC, BPCL बिकती, न नौकरी जाती, न बेरोजगारी बढ़ती, न जीडीपी गिरती!: दिलजीत दोसांझ'',\n",
       "       ''अत्यंत दुर्लभ दोमुखी सफेद सर्प जिसके दर्शन मात्र से ही धन मे वृद्धि होने लगती है ॐ'',\n",
       "       'On confirming a Supreme Court justice nominee in a presidential election year.'],\n",
       "      dtype='object')"
      ]
     },
     "execution_count": 12,
     "metadata": {},
     "output_type": "execute_result"
    }
   ],
   "source": [
    "doubles"
   ]
  },
  {
   "cell_type": "code",
   "execution_count": 13,
   "metadata": {},
   "outputs": [],
   "source": [
    "inconsistant_rating = []\n",
    "for c in doubles:\n",
    "    # for each claim check if all ratings are the same -> returns True if inconsistencies are found\n",
    "    r = claims[claims.claim == c].truth_rating.unique().shape != (1,)\n",
    "    inconsistant_rating.append(r)\n",
    "    "
   ]
  },
  {
   "cell_type": "code",
   "execution_count": 14,
   "metadata": {},
   "outputs": [
    {
     "data": {
      "text/plain": [
       "[False,\n",
       " False,\n",
       " False,\n",
       " False,\n",
       " False,\n",
       " False,\n",
       " False,\n",
       " False,\n",
       " False,\n",
       " False,\n",
       " False,\n",
       " False,\n",
       " False,\n",
       " False,\n",
       " False,\n",
       " True,\n",
       " False,\n",
       " False,\n",
       " False,\n",
       " False,\n",
       " False,\n",
       " False,\n",
       " False,\n",
       " False,\n",
       " False,\n",
       " False,\n",
       " False,\n",
       " False,\n",
       " False,\n",
       " False,\n",
       " False,\n",
       " False,\n",
       " False,\n",
       " True,\n",
       " False,\n",
       " False,\n",
       " False,\n",
       " False,\n",
       " False,\n",
       " False,\n",
       " False]"
      ]
     },
     "execution_count": 14,
     "metadata": {},
     "output_type": "execute_result"
    }
   ],
   "source": [
    "inconsistant_rating"
   ]
  },
  {
   "cell_type": "code",
   "execution_count": 15,
   "metadata": {},
   "outputs": [
    {
     "data": {
      "text/plain": [
       "Index(['Shamima Begum is back in the UK.', 'Covid-19 has a survival rate of 99.8%.'], dtype='object')"
      ]
     },
     "execution_count": 15,
     "metadata": {},
     "output_type": "execute_result"
    }
   ],
   "source": [
    "doubles[pd.Series(inconsistant_rating).values == True]"
   ]
  },
  {
   "attachments": {},
   "cell_type": "markdown",
   "metadata": {},
   "source": [
    "Could be solved more elegant in the future."
   ]
  },
  {
   "cell_type": "code",
   "execution_count": 16,
   "metadata": {},
   "outputs": [
    {
     "data": {
      "text/html": [
       "<div>\n",
       "<style scoped>\n",
       "    .dataframe tbody tr th:only-of-type {\n",
       "        vertical-align: middle;\n",
       "    }\n",
       "\n",
       "    .dataframe tbody tr th {\n",
       "        vertical-align: top;\n",
       "    }\n",
       "\n",
       "    .dataframe thead th {\n",
       "        text-align: right;\n",
       "    }\n",
       "</style>\n",
       "<table border=\"1\" class=\"dataframe\">\n",
       "  <thead>\n",
       "    <tr style=\"text-align: right;\">\n",
       "      <th></th>\n",
       "      <th>ID</th>\n",
       "      <th>claim</th>\n",
       "      <th>date</th>\n",
       "      <th>truth_rating</th>\n",
       "    </tr>\n",
       "  </thead>\n",
       "  <tbody>\n",
       "    <tr>\n",
       "      <th>17113</th>\n",
       "      <td>http://data.gesis.org/claimskg/creative_work/5...</td>\n",
       "      <td>Shamima Begum is back in the UK.</td>\n",
       "      <td>2020-05-19</td>\n",
       "      <td>OTHER</td>\n",
       "    </tr>\n",
       "    <tr>\n",
       "      <th>21325</th>\n",
       "      <td>http://data.gesis.org/claimskg/creative_work/7...</td>\n",
       "      <td>Shamima Begum is back in the UK.</td>\n",
       "      <td>2020-10-08</td>\n",
       "      <td>FALSE</td>\n",
       "    </tr>\n",
       "  </tbody>\n",
       "</table>\n",
       "</div>"
      ],
      "text/plain": [
       "                                                      ID  \\\n",
       "17113  http://data.gesis.org/claimskg/creative_work/5...   \n",
       "21325  http://data.gesis.org/claimskg/creative_work/7...   \n",
       "\n",
       "                                  claim        date truth_rating  \n",
       "17113  Shamima Begum is back in the UK.  2020-05-19        OTHER  \n",
       "21325  Shamima Begum is back in the UK.  2020-10-08        FALSE  "
      ]
     },
     "execution_count": 16,
     "metadata": {},
     "output_type": "execute_result"
    }
   ],
   "source": [
    "claims[claims.claim == 'Shamima Begum is back in the UK.']"
   ]
  },
  {
   "cell_type": "code",
   "execution_count": 17,
   "metadata": {},
   "outputs": [
    {
     "data": {
      "text/html": [
       "<div>\n",
       "<style scoped>\n",
       "    .dataframe tbody tr th:only-of-type {\n",
       "        vertical-align: middle;\n",
       "    }\n",
       "\n",
       "    .dataframe tbody tr th {\n",
       "        vertical-align: top;\n",
       "    }\n",
       "\n",
       "    .dataframe thead th {\n",
       "        text-align: right;\n",
       "    }\n",
       "</style>\n",
       "<table border=\"1\" class=\"dataframe\">\n",
       "  <thead>\n",
       "    <tr style=\"text-align: right;\">\n",
       "      <th></th>\n",
       "      <th>ID</th>\n",
       "      <th>claim</th>\n",
       "      <th>date</th>\n",
       "      <th>truth_rating</th>\n",
       "    </tr>\n",
       "  </thead>\n",
       "  <tbody>\n",
       "    <tr>\n",
       "      <th>4884</th>\n",
       "      <td>http://data.gesis.org/claimskg/creative_work/1...</td>\n",
       "      <td>Covid-19 has a survival rate of 99.8%.</td>\n",
       "      <td>2021-02-19</td>\n",
       "      <td>OTHER</td>\n",
       "    </tr>\n",
       "    <tr>\n",
       "      <th>39832</th>\n",
       "      <td>http://data.gesis.org/claimskg/creative_work/d...</td>\n",
       "      <td>Covid-19 has a survival rate of 99.8%.</td>\n",
       "      <td>2021-06-18</td>\n",
       "      <td>FALSE</td>\n",
       "    </tr>\n",
       "  </tbody>\n",
       "</table>\n",
       "</div>"
      ],
      "text/plain": [
       "                                                      ID  \\\n",
       "4884   http://data.gesis.org/claimskg/creative_work/1...   \n",
       "39832  http://data.gesis.org/claimskg/creative_work/d...   \n",
       "\n",
       "                                        claim        date truth_rating  \n",
       "4884   Covid-19 has a survival rate of 99.8%.  2021-02-19        OTHER  \n",
       "39832  Covid-19 has a survival rate of 99.8%.  2021-06-18        FALSE  "
      ]
     },
     "execution_count": 17,
     "metadata": {},
     "output_type": "execute_result"
    }
   ],
   "source": [
    "claims[claims.claim == 'Covid-19 has a survival rate of 99.8%.']"
   ]
  },
  {
   "attachments": {},
   "cell_type": "markdown",
   "metadata": {},
   "source": [
    "#### Remove ambigious claims and reduce duplicate claims to single row"
   ]
  },
  {
   "cell_type": "code",
   "execution_count": 18,
   "metadata": {},
   "outputs": [
    {
     "data": {
      "text/plain": [
       "(44387, 4)"
      ]
     },
     "execution_count": 18,
     "metadata": {},
     "output_type": "execute_result"
    }
   ],
   "source": [
    "claims.shape"
   ]
  },
  {
   "cell_type": "code",
   "execution_count": 19,
   "metadata": {},
   "outputs": [],
   "source": [
    "claims = claims[claims.claim != 'Shamima Begum is back in the UK.']\n",
    "claims = claims[claims.claim != 'Covid-19 has a survival rate of 99.8%.']\n"
   ]
  },
  {
   "cell_type": "code",
   "execution_count": 20,
   "metadata": {},
   "outputs": [],
   "source": [
    "claims = claims.drop_duplicates(subset=\"claim\")"
   ]
  },
  {
   "cell_type": "code",
   "execution_count": 21,
   "metadata": {},
   "outputs": [
    {
     "data": {
      "text/plain": [
       "(44343, 4)"
      ]
     },
     "execution_count": 21,
     "metadata": {},
     "output_type": "execute_result"
    }
   ],
   "source": [
    "claims.shape"
   ]
  },
  {
   "attachments": {},
   "cell_type": "markdown",
   "metadata": {},
   "source": [
    "#### Claims with invalid date"
   ]
  },
  {
   "cell_type": "code",
   "execution_count": 22,
   "metadata": {},
   "outputs": [
    {
     "data": {
      "text/plain": [
       "False    44343\n",
       "Name: date, dtype: int64"
      ]
     },
     "execution_count": 22,
     "metadata": {},
     "output_type": "execute_result"
    }
   ],
   "source": [
    "claims.date.isnull().value_counts()"
   ]
  },
  {
   "attachments": {},
   "cell_type": "markdown",
   "metadata": {},
   "source": [
    "### Remove claims that are too short"
   ]
  },
  {
   "cell_type": "code",
   "execution_count": 23,
   "metadata": {},
   "outputs": [],
   "source": [
    "def count_words(claim):\n",
    "        tokens = claim.split(\" \")\n",
    "        return len(tokens)"
   ]
  },
  {
   "cell_type": "code",
   "execution_count": 30,
   "metadata": {},
   "outputs": [
    {
     "name": "stderr",
     "output_type": "stream",
     "text": [
      "100%|██████████| 44300/44300 [00:00<00:00, 82652.27it/s] \n"
     ]
    }
   ],
   "source": [
    "claims[\"n_token\"] = claims[\"claim\"].progress_apply(count_words)"
   ]
  },
  {
   "cell_type": "code",
   "execution_count": 31,
   "metadata": {},
   "outputs": [],
   "source": [
    "# Claims that has less than 3 token are unreasonable\n",
    "claims = claims[claims.n_token > 2]"
   ]
  },
  {
   "cell_type": "code",
   "execution_count": 32,
   "metadata": {},
   "outputs": [
    {
     "data": {
      "text/plain": [
       "(44300, 5)"
      ]
     },
     "execution_count": 32,
     "metadata": {},
     "output_type": "execute_result"
    }
   ],
   "source": [
    "claims.shape"
   ]
  },
  {
   "attachments": {},
   "cell_type": "markdown",
   "metadata": {},
   "source": [
    "### Remove all claims that are not english (hopefully)"
   ]
  },
  {
   "cell_type": "code",
   "execution_count": 27,
   "metadata": {},
   "outputs": [],
   "source": [
    "from langdetect import DetectorFactory, detect"
   ]
  },
  {
   "cell_type": "code",
   "execution_count": 28,
   "metadata": {},
   "outputs": [],
   "source": [
    "def detect_language(claim):\n",
    "    try:\n",
    "        lang = detect(claim)\n",
    "    except:\n",
    "        lang = \"none\"\n",
    "    return lang"
   ]
  },
  {
   "cell_type": "code",
   "execution_count": 33,
   "metadata": {},
   "outputs": [
    {
     "name": "stderr",
     "output_type": "stream",
     "text": [
      "100%|██████████| 44300/44300 [09:47<00:00, 75.45it/s] \n"
     ]
    }
   ],
   "source": [
    "# NOTE: Runs approximately 10 mins!\n",
    "# reproducibility\n",
    "DetectorFactory.seed = 0\n",
    "\n",
    "# fist detect the language for each claim\n",
    "claims[\"claim_language\"] = claims[\"claim\"].progress_apply(lambda x: detect_language(x))"
   ]
  },
  {
   "cell_type": "code",
   "execution_count": 34,
   "metadata": {},
   "outputs": [
    {
     "data": {
      "text/plain": [
       "FALSE    3692\n",
       "OTHER    1394\n",
       "TRUE      118\n",
       "Name: truth_rating, dtype: int64"
      ]
     },
     "execution_count": 34,
     "metadata": {},
     "output_type": "execute_result"
    }
   ],
   "source": [
    "claims[claims.claim_language != \"en\"][\"truth_rating\"].value_counts()"
   ]
  },
  {
   "cell_type": "code",
   "execution_count": 35,
   "metadata": {},
   "outputs": [
    {
     "data": {
      "text/plain": [
       "FALSE    23684\n",
       "OTHER     8893\n",
       "TRUE      6519\n",
       "Name: truth_rating, dtype: int64"
      ]
     },
     "execution_count": 35,
     "metadata": {},
     "output_type": "execute_result"
    }
   ],
   "source": [
    "claims[claims.claim_language == \"en\"][\"truth_rating\"].value_counts()"
   ]
  },
  {
   "attachments": {},
   "cell_type": "markdown",
   "metadata": {},
   "source": [
    "Since the dataset is very unbalanced we try to keep the claims that are labeled \"TRUE\" or \"OTHER\" by translating them into english. The claims labeled \"FALSE\" are removed, since translation is expensive."
   ]
  },
  {
   "cell_type": "code",
   "execution_count": 36,
   "metadata": {},
   "outputs": [],
   "source": [
    "from deep_translator import GoogleTranslator"
   ]
  },
  {
   "cell_type": "code",
   "execution_count": 37,
   "metadata": {},
   "outputs": [],
   "source": [
    "def fast_translate(claim):\n",
    "    to_en = GoogleTranslator(target='en')\n",
    "    t_claim = to_en.translate(claim)\n",
    "    # catch some intranslateable sentences\n",
    "    if t_claim is None:\n",
    "        return \"\"\n",
    "    return t_claim"
   ]
  },
  {
   "cell_type": "code",
   "execution_count": 38,
   "metadata": {},
   "outputs": [],
   "source": [
    "to_translate = claims[claims[\"claim_language\"] != \"en\"]"
   ]
  },
  {
   "cell_type": "code",
   "execution_count": 39,
   "metadata": {},
   "outputs": [],
   "source": [
    "to_translate = to_translate[to_translate[\"truth_rating\"] != \"FALSE\"]"
   ]
  },
  {
   "cell_type": "code",
   "execution_count": 40,
   "metadata": {},
   "outputs": [
    {
     "name": "stderr",
     "output_type": "stream",
     "text": [
      "100%|██████████| 1512/1512 [16:03<00:00,  1.57it/s]\n"
     ]
    }
   ],
   "source": [
    "# translate the claims (will take some time! ~20min)\n",
    "to_translate[\"claim\"] = to_translate[\"claim\"].progress_apply(lambda x: fast_translate(x))"
   ]
  },
  {
   "cell_type": "code",
   "execution_count": 41,
   "metadata": {},
   "outputs": [],
   "source": [
    "# recount n_token\n",
    "to_translate[\"n_token\"] = to_translate[\"claim\"].apply(count_words)"
   ]
  },
  {
   "cell_type": "code",
   "execution_count": 78,
   "metadata": {},
   "outputs": [],
   "source": [
    "# for convinience\n",
    "#to_translate.reset_index(drop=True).to_csv(\"translated_claims_backup.csv\")"
   ]
  },
  {
   "attachments": {},
   "cell_type": "markdown",
   "metadata": {},
   "source": [
    "### Merge the dataframes"
   ]
  },
  {
   "cell_type": "code",
   "execution_count": 42,
   "metadata": {},
   "outputs": [],
   "source": [
    "claims = claims[claims[\"claim_language\"] == \"en\"]"
   ]
  },
  {
   "cell_type": "code",
   "execution_count": 43,
   "metadata": {},
   "outputs": [
    {
     "data": {
      "text/plain": [
       "(39096, 6)"
      ]
     },
     "execution_count": 43,
     "metadata": {},
     "output_type": "execute_result"
    }
   ],
   "source": [
    "claims.shape"
   ]
  },
  {
   "cell_type": "code",
   "execution_count": 44,
   "metadata": {},
   "outputs": [],
   "source": [
    "claims = pd.concat([claims, to_translate], axis=0)"
   ]
  },
  {
   "cell_type": "code",
   "execution_count": 45,
   "metadata": {},
   "outputs": [
    {
     "data": {
      "text/plain": [
       "count                                                 40608\n",
       "unique                                                40608\n",
       "top       http://data.gesis.org/claimskg/creative_work/0...\n",
       "freq                                                      1\n",
       "Name: ID, dtype: object"
      ]
     },
     "execution_count": 45,
     "metadata": {},
     "output_type": "execute_result"
    }
   ],
   "source": [
    "#double check\n",
    "claims.ID.describe()"
   ]
  },
  {
   "cell_type": "code",
   "execution_count": 46,
   "metadata": {},
   "outputs": [],
   "source": [
    "claims = claims.drop(\"claim_language\", axis=1)"
   ]
  },
  {
   "cell_type": "code",
   "execution_count": 47,
   "metadata": {},
   "outputs": [
    {
     "data": {
      "text/plain": [
       "(40608, 5)"
      ]
     },
     "execution_count": 47,
     "metadata": {},
     "output_type": "execute_result"
    }
   ],
   "source": [
    "# final shape\n",
    "claims.shape"
   ]
  },
  {
   "attachments": {},
   "cell_type": "markdown",
   "metadata": {},
   "source": [
    "### Save the pre-processed claims"
   ]
  },
  {
   "cell_type": "code",
   "execution_count": 48,
   "metadata": {},
   "outputs": [],
   "source": [
    "claims.reset_index(drop=True).to_csv(\"../../../data/preprocessed_claims_new.csv\")"
   ]
  }
 ],
 "metadata": {
  "kernelspec": {
   "display_name": "KDD",
   "language": "python",
   "name": "python3"
  },
  "language_info": {
   "codemirror_mode": {
    "name": "ipython",
    "version": 3
   },
   "file_extension": ".py",
   "mimetype": "text/x-python",
   "name": "python",
   "nbconvert_exporter": "python",
   "pygments_lexer": "ipython3",
   "version": "3.10.4 | packaged by conda-forge | (main, Mar 30 2022, 08:38:02) [MSC v.1916 64 bit (AMD64)]"
  },
  "orig_nbformat": 4,
  "vscode": {
   "interpreter": {
    "hash": "86d1cac61c1a8a4ca677cb2a2078730a65cbf222114e2ee6531c514518eb6f30"
   }
  }
 },
 "nbformat": 4,
 "nbformat_minor": 2
}
